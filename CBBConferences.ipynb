{
 "cells": [
  {
   "cell_type": "markdown",
   "id": "2747d702-6331-4a5e-8b0e-875a3444ff58",
   "metadata": {},
   "source": [
    "# College Basketball Conferences\n",
    "## Memphis Lau"
   ]
  },
  {
   "cell_type": "markdown",
   "id": "ac545635-62d3-4f13-bcd0-05e4c5ac27d8",
   "metadata": {},
   "source": [
    "Every year, once March comes around, we all fill out our brackets, most of us doing so blindly and without knowledge of how exactly the tournament works. This article aims to explain how conferences play into the tournament, determine which conferences are worth watching, and explore trends between high-major conferences and mid-major conferences."
   ]
  },
  {
   "cell_type": "markdown",
   "id": "f0299296-4b49-4caa-ba16-c2453dc5e2e4",
   "metadata": {},
   "source": [
    "## How Do Conferences Work?"
   ]
  },
  {
   "cell_type": "markdown",
   "id": "f1e75e7a-871f-4bb5-812d-7383ee5897ec",
   "metadata": {},
   "source": [
    "In Division I College Basketball, there are 352 teams, each placed into one of the 32 conferences (or leagues) around the nation. These designations are mostly regional. They dictate a team's schedule, as they will play a majority of its games throughout the season strictly against teams in its own conference. \n",
    "\n",
    "At the end of the season, every conference has a tournament within itself, with seeding based on the teams' records against each other in league play. The winner of these tournaments win a guaranteeed spot into the now 68-team March Madness bracket and a chance to win the National Championship. That means 32 of the 68 teams in the tournament are locked first. The other 36 teams are chosen from any conference in the nation, chosen by a panel. \n",
    "\n",
    "This means every conference will be represented by at least one team every year."
   ]
  },
  {
   "cell_type": "markdown",
   "id": "112606f9-e076-47a8-bb44-c4e3f88bc5f5",
   "metadata": {},
   "source": [
    "### Reading in and Cleaning Data"
   ]
  },
  {
   "cell_type": "code",
   "execution_count": 1,
   "id": "79ad2c58-7c4d-450f-b0c1-bb4f51427c2e",
   "metadata": {},
   "outputs": [],
   "source": [
    "import numpy as np\n",
    "import pandas as pd\n",
    "from pandas.api.types import CategoricalDtype\n",
    "import matplotlib.pyplot as plt\n",
    "data = pd.read_csv(\"alldataclean.csv\")"
   ]
  },
  {
   "cell_type": "markdown",
   "id": "75082447-2c2e-4998-8d13-519c6ef6adf4",
   "metadata": {},
   "source": [
    "Our dataset contains every college team, its conference, season statistics, and postseason results from the last 10 seasons (9 tournaments because the 2020 tournament was cancelled)."
   ]
  },
  {
   "cell_type": "code",
   "execution_count": 2,
   "id": "2cb59d76-5ac9-4c8a-83ab-5b92d0be7425",
   "metadata": {},
   "outputs": [
    {
     "name": "stdout",
     "output_type": "stream",
     "text": [
      "<class 'pandas.core.frame.DataFrame'>\n",
      "RangeIndex: 3160 entries, 0 to 3159\n",
      "Data columns (total 24 columns):\n",
      " #   Column      Non-Null Count  Dtype  \n",
      "---  ------      --------------  -----  \n",
      " 0   TEAM        3160 non-null   object \n",
      " 1   CONF        3160 non-null   object \n",
      " 2   G           3160 non-null   int64  \n",
      " 3   W           3160 non-null   int64  \n",
      " 4   ADJOE       3160 non-null   float64\n",
      " 5   ADJDE       3160 non-null   float64\n",
      " 6   BARTHAG     3160 non-null   float64\n",
      " 7   EFG_O       3160 non-null   float64\n",
      " 8   EFG_D       3160 non-null   float64\n",
      " 9   TOR         3160 non-null   float64\n",
      " 10  TORD        3160 non-null   float64\n",
      " 11  ORB         3160 non-null   float64\n",
      " 12  DRB         3160 non-null   float64\n",
      " 13  FTR         3160 non-null   float64\n",
      " 14  FTRD        3160 non-null   float64\n",
      " 15  2P_O        3160 non-null   float64\n",
      " 16  2P_D        3160 non-null   float64\n",
      " 17  3P_O        3160 non-null   float64\n",
      " 18  3P_D        3160 non-null   float64\n",
      " 19  ADJ_T       3160 non-null   float64\n",
      " 20  WAB         3160 non-null   float64\n",
      " 21  POSTSEASON  612 non-null    object \n",
      " 22  SEED        612 non-null    float64\n",
      " 23  YEAR        3160 non-null   int64  \n",
      "dtypes: float64(18), int64(3), object(3)\n",
      "memory usage: 592.6+ KB\n"
     ]
    }
   ],
   "source": [
    "data.info()"
   ]
  },
  {
   "cell_type": "markdown",
   "id": "0774573e-9122-4163-8090-21ca716e20c2",
   "metadata": {},
   "source": [
    "As we can see, there are no missing data, except for when teams do not make the postseason tournament. We have 612 teams that did make the postseason, and the 2500+ teams in our dataset that did not make the tournament have missing values in the \"POSTSEASON\" and \"YEAR\" columns."
   ]
  },
  {
   "cell_type": "markdown",
   "id": "704fb0f9-384a-47c0-bd24-4ad3b03c260f",
   "metadata": {},
   "source": [
    "Because we are analyzing college basketball conferences, it is important that our dataset represents those corectly."
   ]
  },
  {
   "cell_type": "code",
   "execution_count": 3,
   "id": "8d889d0d-acdd-4696-a245-411a15d524ac",
   "metadata": {},
   "outputs": [
    {
     "name": "stdout",
     "output_type": "stream",
     "text": [
      "['WCC' 'Amer' 'B12' 'ACC' 'SEC' 'BE' 'P12' 'B10' 'MWC' 'MVC' 'A10' 'OVC'\n",
      " 'CUSA' 'AE' 'SC' 'WAC' 'Sum' 'CAA' 'MAAC' 'MAC' 'Ivy' 'ASun' 'Pat' 'SB'\n",
      " 'BW' 'BSth' 'BSky' 'NEC' 'Horz' 'SWAC' 'MEAC' 'Slnd' 'Ind' 'ind' 'GWC']\n",
      "35\n"
     ]
    }
   ],
   "source": [
    "print(data.CONF.unique())\n",
    "print(data.CONF.nunique())"
   ]
  },
  {
   "cell_type": "markdown",
   "id": "619a2c25-51f5-44ff-8972-b8f08c5e8daf",
   "metadata": {},
   "source": [
    "This dataset has 35 unique values for conferences. This is because it represents teams that are Independent (belong to no conference) and the Great West Conference (GWC), which stopped existing after 2013. For the sake of our project staying within the 32 conferences that we have now, we will remove all teams that didn't belong to a conference or belonged to the GWC."
   ]
  },
  {
   "cell_type": "code",
   "execution_count": 4,
   "id": "bc79f5cb-94d2-45bc-a2ef-f26825eb7ee9",
   "metadata": {},
   "outputs": [],
   "source": [
    "unwanted_data = data[data['CONF'].isin(['Ind', 'ind', 'GWC'])].index\n",
    "data.drop(unwanted_data, inplace = True)"
   ]
  },
  {
   "cell_type": "code",
   "execution_count": 5,
   "id": "6ac7fd6c-9987-4ffd-8377-95b1284f2c9c",
   "metadata": {},
   "outputs": [
    {
     "data": {
      "text/plain": [
       "32"
      ]
     },
     "execution_count": 5,
     "metadata": {},
     "output_type": "execute_result"
    }
   ],
   "source": [
    "data.CONF.nunique()"
   ]
  },
  {
   "cell_type": "markdown",
   "id": "8ddd3767-9949-40d8-8be0-37d51a7221f6",
   "metadata": {},
   "source": [
    "Another important column is the 'POSTSEASON' column. Let's take a look:"
   ]
  },
  {
   "cell_type": "code",
   "execution_count": 6,
   "id": "af3597fc-13b0-43df-95dc-5f41988c4f3c",
   "metadata": {},
   "outputs": [
    {
     "data": {
      "text/plain": [
       "array(['S16', 'E8', 'Champions', 'R32', 'F4', 'R64', '2ND', nan, 'R68'],\n",
       "      dtype=object)"
      ]
     },
     "execution_count": 6,
     "metadata": {},
     "output_type": "execute_result"
    }
   ],
   "source": [
    "data.POSTSEASON.unique()"
   ]
  },
  {
   "cell_type": "markdown",
   "id": "67638408-6da7-45cb-b0a8-2cab3cac6ac2",
   "metadata": {},
   "source": [
    "We see that this dataset uses abbreviations to classify which round the team made it to before losing. All teams that did not make the postseason have a missing value in this column. To make visualization easier, we will create a column that simply tells if a team made the postseason or not."
   ]
  },
  {
   "cell_type": "code",
   "execution_count": 7,
   "id": "00af4162-d0f0-4bf7-abe7-c714bbc7e6f8",
   "metadata": {},
   "outputs": [],
   "source": [
    "data['TOURNEY'] = list(map(lambda x: not x, data.POSTSEASON.isnull()))"
   ]
  },
  {
   "cell_type": "markdown",
   "id": "c295844c-46be-4de0-9570-9d02221e55cf",
   "metadata": {},
   "source": [
    "We also want to create an order amongst the results from the postseason."
   ]
  },
  {
   "cell_type": "code",
   "execution_count": 8,
   "id": "bf3861a1-0b87-4ad3-8e7e-5631ab9e5a92",
   "metadata": {},
   "outputs": [],
   "source": [
    "cat_type = CategoricalDtype(categories=['R68', 'R64', 'R32', 'S16', 'E8', 'F4', '2ND', 'Champions'], ordered=True)\n",
    "data.POSTSEASON = data.POSTSEASON.astype(cat_type)"
   ]
  },
  {
   "cell_type": "markdown",
   "id": "aaf5efa7-5905-45e6-b10a-640e65c2f32e",
   "metadata": {},
   "source": [
    "### Conference Watch"
   ]
  },
  {
   "cell_type": "code",
   "execution_count": 9,
   "id": "14bb2193-2c4d-469d-bf89-5d7f142eb460",
   "metadata": {},
   "outputs": [],
   "source": [
    "team_count = data.groupby('CONF').TEAM.count()\n",
    "tourney_count = data.groupby('CONF').TOURNEY.sum()"
   ]
  },
  {
   "cell_type": "code",
   "execution_count": 57,
   "id": "39060eab-97eb-4996-bcba-5c30b7e86054",
   "metadata": {},
   "outputs": [
    {
     "data": {
      "image/png": "[encoded data removed]",
      "text/plain": [
       "<Figure size 864x360 with 1 Axes>"
      ]
     },
     "metadata": {
      "needs_background": "light"
     },
     "output_type": "display_data"
    }
   ],
   "source": [
    "plt.figure(figsize=(12,5))\n",
    "plt.bar(team_count.index, height = team_count, color = 'orange', alpha = 0.5, label = 'Teams')\n",
    "plt.bar(tourney_count.index, height = tourney_count, color = 'blue', alpha = 0.5, label = 'Made Tournament')\n",
    "plt.xticks(rotation = 60)\n",
    "plt.legend()\n",
    "plt.title(\"Number of Teams in the Dataset By Conference\")\n",
    "plt.xlabel(\"Conferences\")\n",
    "plt.ylabel(\"Number of Teams\")\n",
    "plt.show()"
   ]
  },
  {
   "cell_type": "markdown",
   "id": "a9c6ce44-fc90-435c-ad1e-1a0d1ee1f77f",
   "metadata": {},
   "source": [
    "Worth noting: Ivy League only has 8 appearances in the 9 years because they shut down all sports during the pandemic and thus could not send any team to the tournament in 2021. This dataset does not have the Liberty team that represented the ASun conference in 2019, so the ASun only has 8 tournament teams in our data. Every other team has at least 9 appearances in the tournament over the last 9 eligible seasons, as expected."
   ]
  },
  {
   "cell_type": "markdown",
   "id": "399ba84f-1532-4456-9be9-879ed029cfcd",
   "metadata": {},
   "source": [
    "We see that the number of teams represented in the data is relatively standard throughout all the different conferences. However, the number of teams that have made the tournament spike in 6 conferences. Let's explore these six."
   ]
  },
  {
   "cell_type": "code",
   "execution_count": 11,
   "id": "8cb866cb-def7-492f-9218-639c16db18b2",
   "metadata": {},
   "outputs": [
    {
     "data": {
      "text/html": [
       "<div>\n",
       "<style scoped>\n",
       "    .dataframe tbody tr th:only-of-type {\n",
       "        vertical-align: middle;\n",
       "    }\n",
       "\n",
       "    .dataframe tbody tr th {\n",
       "        vertical-align: top;\n",
       "    }\n",
       "\n",
       "    .dataframe thead th {\n",
       "        text-align: right;\n",
       "    }\n",
       "</style>\n",
       "<table border=\"1\" class=\"dataframe\">\n",
       "  <thead>\n",
       "    <tr style=\"text-align: right;\">\n",
       "      <th></th>\n",
       "      <th>TOURNEY APPEARANCES</th>\n",
       "    </tr>\n",
       "    <tr>\n",
       "      <th>CONF</th>\n",
       "      <th></th>\n",
       "    </tr>\n",
       "  </thead>\n",
       "  <tbody>\n",
       "    <tr>\n",
       "      <th>B10</th>\n",
       "      <td>64</td>\n",
       "    </tr>\n",
       "    <tr>\n",
       "      <th>ACC</th>\n",
       "      <td>60</td>\n",
       "    </tr>\n",
       "    <tr>\n",
       "      <th>B12</th>\n",
       "      <td>58</td>\n",
       "    </tr>\n",
       "    <tr>\n",
       "      <th>BE</th>\n",
       "      <td>50</td>\n",
       "    </tr>\n",
       "    <tr>\n",
       "      <th>SEC</th>\n",
       "      <td>46</td>\n",
       "    </tr>\n",
       "    <tr>\n",
       "      <th>P12</th>\n",
       "      <td>40</td>\n",
       "    </tr>\n",
       "  </tbody>\n",
       "</table>\n",
       "</div>"
      ],
      "text/plain": [
       "      TOURNEY APPEARANCES\n",
       "CONF                     \n",
       "B10                    64\n",
       "ACC                    60\n",
       "B12                    58\n",
       "BE                     50\n",
       "SEC                    46\n",
       "P12                    40"
      ]
     },
     "execution_count": 11,
     "metadata": {},
     "output_type": "execute_result"
    }
   ],
   "source": [
    "pd.DataFrame(tourney_count.sort_values(ascending = False)[0:6]).rename(columns = {'TOURNEY' : 'TOURNEY APPEARANCES'})"
   ]
  },
  {
   "cell_type": "markdown",
   "id": "16fcc21e-ef37-49e7-99a2-8a32db098dca",
   "metadata": {},
   "source": [
    "These 6 conferences are known as \"high-major\" conferences. They are the Big 10, the Atlantic Coast Conference, the Big 12, the Big East, the Southeastern conference, and the Pacific 12. I will refer to these high-major conferences as Power 6 Conferences, as well.\n",
    "\n",
    "More importantly for us, UCLA belongs to the Pac-12. However, in a couple years, UCLA will move conferences to the Big Ten."
   ]
  },
  {
   "cell_type": "code",
   "execution_count": 58,
   "id": "f8acd446-9442-42b4-ae3c-1201a8b73202",
   "metadata": {},
   "outputs": [
    {
     "data": {
      "image/png": "[encoded data removed]",
      "text/plain": [
       "<Figure size 864x360 with 1 Axes>"
      ]
     },
     "metadata": {
      "needs_background": "light"
     },
     "output_type": "display_data"
    }
   ],
   "source": [
    "plt.figure(figsize = (12,5))\n",
    "s16_count = data[data.POSTSEASON >= 'S16'].groupby('CONF').TEAM.count()\n",
    "plt.bar(tourney_count.index, height = tourney_count, color = 'orange', alpha = 0.5, label = 'Tournament Teams')\n",
    "plt.bar(s16_count.index, height = s16_count, color = 'blue', alpha = 0.5, label = 'Sweet 16 or better')\n",
    "plt.xticks(rotation = 60)\n",
    "plt.legend()\n",
    "plt.title(\"Number of Teams in the Dataset By Conference\")\n",
    "plt.xlabel(\"Conferences\")\n",
    "plt.ylabel(\"Number of Teams\")\n",
    "plt.show()"
   ]
  },
  {
   "cell_type": "markdown",
   "id": "ae7a74f7-62fe-4381-8182-48c67bcbd263",
   "metadata": {},
   "source": [
    "If we look at just teams that have made the Sweet 16 in the last 9 tournaments, we again see the clear divide between the top 6 and the rest of the field again.\n",
    "\n",
    "## High-Major Conferences vs Mid-Major Conferences"
   ]
  },
  {
   "cell_type": "code",
   "execution_count": 13,
   "id": "03059538-6383-4623-95c1-c1125c72b74d",
   "metadata": {},
   "outputs": [],
   "source": [
    "high_major_idx = data[data.CONF.isin(['ACC', 'B10', 'B12', 'BE', 'P12', 'SEC'])].index\n",
    "high_major = data.loc[high_major_idx, :]\n",
    "mid_major = data.loc[data.index.difference(high_major_idx), :]"
   ]
  },
  {
   "cell_type": "markdown",
   "id": "ae45dd73-79fd-4c2d-bd54-b724de83acfe",
   "metadata": {},
   "source": [
    "### Regular Season"
   ]
  },
  {
   "cell_type": "code",
   "execution_count": 61,
   "id": "ab59bd66-196a-4883-b093-72d875fb8ce1",
   "metadata": {},
   "outputs": [],
   "source": [
    "high_major_avg = np.round(np.mean(high_major.iloc[:, 4:19], axis = 0),2)\n",
    "mid_major_avg = np.round(np.mean(mid_major.iloc[:, 4:19], axis = 0),2)\n",
    "avgs = pd.concat([high_major_avg, mid_major_avg], axis = 1)\n",
    "avgs.columns = ['High Major', 'Mid Major']"
   ]
  },
  {
   "cell_type": "code",
   "execution_count": 62,
   "id": "f725ffe2-e6e8-4947-9ddf-5aad2be42068",
   "metadata": {},
   "outputs": [
    {
     "data": {
      "text/html": [
       "<div>\n",
       "<style scoped>\n",
       "    .dataframe tbody tr th:only-of-type {\n",
       "        vertical-align: middle;\n",
       "    }\n",
       "\n",
       "    .dataframe tbody tr th {\n",
       "        vertical-align: top;\n",
       "    }\n",
       "\n",
       "    .dataframe thead th {\n",
       "        text-align: right;\n",
       "    }\n",
       "</style>\n",
       "<table border=\"1\" class=\"dataframe\">\n",
       "  <thead>\n",
       "    <tr style=\"text-align: right;\">\n",
       "      <th></th>\n",
       "      <th>High Major</th>\n",
       "      <th>Mid Major</th>\n",
       "    </tr>\n",
       "  </thead>\n",
       "  <tbody>\n",
       "    <tr>\n",
       "      <th>ADJOE</th>\n",
       "      <td>110.44</td>\n",
       "      <td>101.09</td>\n",
       "    </tr>\n",
       "    <tr>\n",
       "      <th>ADJDE</th>\n",
       "      <td>96.45</td>\n",
       "      <td>104.86</td>\n",
       "    </tr>\n",
       "    <tr>\n",
       "      <th>BARTHAG</th>\n",
       "      <td>0.79</td>\n",
       "      <td>0.41</td>\n",
       "    </tr>\n",
       "    <tr>\n",
       "      <th>EFG_O</th>\n",
       "      <td>50.66</td>\n",
       "      <td>49.61</td>\n",
       "    </tr>\n",
       "    <tr>\n",
       "      <th>EFG_D</th>\n",
       "      <td>48.49</td>\n",
       "      <td>50.46</td>\n",
       "    </tr>\n",
       "    <tr>\n",
       "      <th>TOR</th>\n",
       "      <td>17.97</td>\n",
       "      <td>18.95</td>\n",
       "    </tr>\n",
       "    <tr>\n",
       "      <th>TORD</th>\n",
       "      <td>18.60</td>\n",
       "      <td>18.68</td>\n",
       "    </tr>\n",
       "    <tr>\n",
       "      <th>ORB</th>\n",
       "      <td>31.19</td>\n",
       "      <td>28.93</td>\n",
       "    </tr>\n",
       "    <tr>\n",
       "      <th>DRB</th>\n",
       "      <td>29.48</td>\n",
       "      <td>29.66</td>\n",
       "    </tr>\n",
       "    <tr>\n",
       "      <th>FTR</th>\n",
       "      <td>35.28</td>\n",
       "      <td>34.74</td>\n",
       "    </tr>\n",
       "    <tr>\n",
       "      <th>FTRD</th>\n",
       "      <td>32.99</td>\n",
       "      <td>35.70</td>\n",
       "    </tr>\n",
       "    <tr>\n",
       "      <th>2P_O</th>\n",
       "      <td>49.94</td>\n",
       "      <td>48.75</td>\n",
       "    </tr>\n",
       "    <tr>\n",
       "      <th>2P_D</th>\n",
       "      <td>47.41</td>\n",
       "      <td>49.67</td>\n",
       "    </tr>\n",
       "    <tr>\n",
       "      <th>3P_O</th>\n",
       "      <td>34.65</td>\n",
       "      <td>34.10</td>\n",
       "    </tr>\n",
       "    <tr>\n",
       "      <th>3P_D</th>\n",
       "      <td>33.66</td>\n",
       "      <td>34.62</td>\n",
       "    </tr>\n",
       "  </tbody>\n",
       "</table>\n",
       "</div>"
      ],
      "text/plain": [
       "         High Major  Mid Major\n",
       "ADJOE        110.44     101.09\n",
       "ADJDE         96.45     104.86\n",
       "BARTHAG        0.79       0.41\n",
       "EFG_O         50.66      49.61\n",
       "EFG_D         48.49      50.46\n",
       "TOR           17.97      18.95\n",
       "TORD          18.60      18.68\n",
       "ORB           31.19      28.93\n",
       "DRB           29.48      29.66\n",
       "FTR           35.28      34.74\n",
       "FTRD          32.99      35.70\n",
       "2P_O          49.94      48.75\n",
       "2P_D          47.41      49.67\n",
       "3P_O          34.65      34.10\n",
       "3P_D          33.66      34.62"
      ]
     },
     "execution_count": 62,
     "metadata": {},
     "output_type": "execute_result"
    }
   ],
   "source": [
    "avgs"
   ]
  },
  {
   "cell_type": "markdown",
   "id": "0df88250-b7bc-4d12-8022-cc5a911f4255",
   "metadata": {},
   "source": [
    "This table shows us that high-major teams simply are better on average than mid-major teams. Across all significant statistical factors, high-major teams have mid-major teams beat. They have a higher offensive efficiency, while having a better defensive efficiency, as well. The graph below helps us visualize this better. They turn the ball over less. However, shooting numbers are relatively even. The largest difference is in the BARTHAG score: their power rating (chances of beating an average DI team). The averages between the two types of conferences differs by almost 48%."
   ]
  },
  {
   "cell_type": "code",
   "execution_count": 16,
   "id": "95c453f3-d0b1-4784-ae11-e459b4b13bce",
   "metadata": {},
   "outputs": [
    {
     "data": {
      "image/png": "[encoded data removed]",
      "text/plain": [
       "<Figure size 720x576 with 2 Axes>"
      ]
     },
     "metadata": {
      "needs_background": "light"
     },
     "output_type": "display_data"
    }
   ],
   "source": [
    "plt.figure(figsize = (10, 8))\n",
    "plt.subplot(1,2,1)\n",
    "plt.scatter(high_major.ADJOE, high_major.ADJDE, color = 'blue', label = 'High Major Teams', alpha = 0.2)\n",
    "plt.scatter(mid_major.ADJOE, mid_major.ADJDE, color = 'orange', label = \"Mid Major Teams\", alpha = 0.2)\n",
    "plt.xlabel(\"Adjusted Offensive Efficiency\")\n",
    "plt.ylabel(\"Adjusted Defensive Efficiency\")\n",
    "plt.title(\"Offensive and Defensive Efficiency (Conferences)\")\n",
    "plt.legend()\n",
    "\n",
    "plt.subplot(1,2,2)\n",
    "plt.scatter(data[data.TOURNEY == 1].ADJOE, data[data.TOURNEY == 1].ADJDE, color = 'blue', label = 'Tournament Teams', alpha = 0.2)\n",
    "plt.scatter(data[data.TOURNEY == 0].ADJOE, data[data.TOURNEY == 0].ADJDE, color = 'orange', label = \"Non Tournament Teams\", alpha = 0.2)\n",
    "plt.xlabel(\"Adjusted Offensive Efficiency\")\n",
    "plt.ylabel(\"Adjusted Defensive Efficiency\")\n",
    "plt.title(\"Offensive and Defensive Efficiency (Tournament)\")\n",
    "plt.legend()\n",
    "\n",
    "plt.show()"
   ]
  },
  {
   "cell_type": "markdown",
   "id": "5a0971be-db83-4b80-b754-3fafcf909607",
   "metadata": {},
   "source": [
    "As we can see, a Power 6 team on average has better adjusted offensive efficency and defensive efficiency than a mid-major team. Not coincidentally, when we plot the same parameters and separate by tournament teams and non-tournament teams, the graphs are strikingly similar. It leads us to exploring the disparities in the postseason."
   ]
  },
  {
   "cell_type": "markdown",
   "id": "cf8b9bdf-2379-4fd8-a070-bae89250f7d8",
   "metadata": {},
   "source": [
    "### Postseason Consistency"
   ]
  },
  {
   "cell_type": "code",
   "execution_count": 17,
   "id": "01253213-088c-46ed-8257-80621e63b6a2",
   "metadata": {},
   "outputs": [],
   "source": [
    "high_major_tourney = high_major.groupby('TEAM').TOURNEY.sum()\n",
    "mid_major_tourney = mid_major.groupby('TEAM').TOURNEY.sum()\n",
    "hm_array = []\n",
    "mm_array = []\n",
    "for i in range(5,10):\n",
    "    hm_array.append(sum(high_major_tourney >= i))\n",
    "    mm_array.append(sum(mid_major_tourney >= i))"
   ]
  },
  {
   "cell_type": "code",
   "execution_count": 18,
   "id": "14e48684-5a5a-411a-8248-3f8e34d742cb",
   "metadata": {},
   "outputs": [
    {
     "data": {
      "image/png": "[encoded data removed]",
      "text/plain": [
       "<Figure size 432x288 with 1 Axes>"
      ]
     },
     "metadata": {
      "needs_background": "light"
     },
     "output_type": "display_data"
    }
   ],
   "source": [
    "ind = np.arange(5)\n",
    "width = 0.3\n",
    "plt.bar(ind, hm_array , width, label='High Major Teams', color = 'blue', alpha = 0.5)\n",
    "plt.bar(ind + width, mm_array, width, label='Mid Major Teams', color = 'orange', alpha = 0.5)\n",
    "plt.xlabel('Amount of Tournament Appearances (at least)')\n",
    "plt.ylabel('Number of Teams (Last 9 Tournaments)')\n",
    "plt.title('Tournament Appearance Consistency')\n",
    "plt.xticks(ind + width / 2, ('5', '6', '7', '8', '9'))\n",
    "plt.legend(loc='best')\n",
    "plt.show()"
   ]
  },
  {
   "cell_type": "markdown",
   "id": "25555a8a-e86e-4105-9a10-ef7867b046da",
   "metadata": {},
   "source": [
    "This graph shows how many teams have made the tournament at least n times in the last 9 years (for 5 <= n <= 9). We see that there are many more \"consistent\" teams in high major leagues. This is made even more significant by the fact that the dataset has more than 3 times more mid-major teams than high-major teams."
   ]
  },
  {
   "cell_type": "markdown",
   "id": "7d9b0767-ca9b-40eb-b446-5781b7506782",
   "metadata": {},
   "source": [
    "### Postseason Success: Seeding"
   ]
  },
  {
   "cell_type": "code",
   "execution_count": 19,
   "id": "84ca4a66-08c5-4f20-8b12-46980cfee374",
   "metadata": {},
   "outputs": [],
   "source": [
    "high_major_post = high_major[high_major.TOURNEY == True]\n",
    "mid_major_post = mid_major[mid_major.TOURNEY == True]"
   ]
  },
  {
   "cell_type": "code",
   "execution_count": 20,
   "id": "7ac3ff57-bc11-4f1b-8625-e0354d4e6351",
   "metadata": {},
   "outputs": [],
   "source": [
    "high_major_seeding = np.mean(high_major_post.SEED)\n",
    "mid_major_seeding = np.mean(mid_major_post.SEED)"
   ]
  },
  {
   "cell_type": "code",
   "execution_count": 21,
   "id": "1d5ab607-b1c6-48a0-851a-2559b6c071c0",
   "metadata": {},
   "outputs": [
    {
     "name": "stdout",
     "output_type": "stream",
     "text": [
      "Average Seeding for High Major Teams:  5.933962264150943\n",
      "Average Seeding for Mid Major Teams:  11.904761904761905\n"
     ]
    }
   ],
   "source": [
    "print(\"Average Seeding for High Major Teams: \", high_major_seeding)\n",
    "print(\"Average Seeding for Mid Major Teams: \", mid_major_seeding)"
   ]
  },
  {
   "cell_type": "markdown",
   "id": "71c97280-d510-4356-a68a-282d7ee34540",
   "metadata": {},
   "source": [
    "As expected, because high major teams are typically better than low major teams, they get seeded higher in the tournament when they make it."
   ]
  },
  {
   "cell_type": "code",
   "execution_count": 22,
   "id": "74c91816-e973-435c-8029-81288518a709",
   "metadata": {},
   "outputs": [
    {
     "name": "stdout",
     "output_type": "stream",
     "text": [
      "Proportions of High Major Teams with Double Digit Seed:  0.19811320754716982\n",
      "Proportions of Mid Major Teams with Double Digit Seed:  0.7687074829931972\n"
     ]
    }
   ],
   "source": [
    "double_digit_seed_hm = len(high_major_post[high_major_post.SEED >= 10]) / len(high_major_post)\n",
    "double_digit_seed_mm = len(mid_major_post[mid_major_post.SEED >= 10]) / len(mid_major_post)\n",
    "print(\"Proportions of High Major Teams with Double Digit Seed: \", double_digit_seed_hm)\n",
    "print(\"Proportions of Mid Major Teams with Double Digit Seed: \", double_digit_seed_mm)"
   ]
  },
  {
   "cell_type": "markdown",
   "id": "b2724c9c-c676-491a-904e-d919caaec36c",
   "metadata": {},
   "source": [
    "In fact, less than 20% of tournament high major conference teams are seeded 10 and below, while over 75% of mid-major schools are. As by the nature of the tournament, it is much more difficult to advance far if a team is seeded lower.\n",
    "\n",
    "The following graphic shows a better picture of how the seeding is distributed."
   ]
  },
  {
   "cell_type": "code",
   "execution_count": 23,
   "id": "3da66f4d-96df-46aa-b0a4-17d49edb6e5d",
   "metadata": {},
   "outputs": [],
   "source": [
    "seeding = data[data.TOURNEY == True].groupby('SEED').TEAM.count()\n",
    "high_major_seeding = high_major_post.groupby('SEED').TEAM.count()"
   ]
  },
  {
   "cell_type": "code",
   "execution_count": 24,
   "id": "79c9c666-570a-41bd-829f-86f5a8d41632",
   "metadata": {},
   "outputs": [
    {
     "data": {
      "image/png": "[encoded data removed]",
      "text/plain": [
       "<Figure size 432x288 with 1 Axes>"
      ]
     },
     "metadata": {
      "needs_background": "light"
     },
     "output_type": "display_data"
    }
   ],
   "source": [
    "plt.bar(seeding.index, seeding, color = 'orange', alpha = 0.5, label = 'Mid Major Teams')\n",
    "plt.bar(high_major_seeding.index, high_major_seeding, color = 'blue', alpha = 0.5, label = 'High Major Teams')\n",
    "plt.xlabel(\"Seed in the Tournament\")\n",
    "plt.ylabel(\"Amount of Teams at this Seed\")\n",
    "plt.title(\"Patterns in Seeding\")\n",
    "plt.legend()\n",
    "plt.xticks(seeding.index)\n",
    "plt.show()"
   ]
  },
  {
   "cell_type": "markdown",
   "id": "7b19dd89-9684-430a-b1bf-564352d04817",
   "metadata": {},
   "source": [
    "This graph reveals interesting patterns in tournament seeding with regards to high major teams and mid major teams. For those that do not know, there are spikes in the amount of 11 seeds and 16 seeds because there are 6 of each in every tournament, as opposed to the 4 of every other seed. \n",
    "\n",
    "It is interesting to see that no high major team has been seeded 13 or worse in any of the past 9 tournaments. It is also worth exploring why the peak of the ratio of high major teams at the seed is at the 3 seed line, instead of the 1 seed. "
   ]
  },
  {
   "cell_type": "markdown",
   "id": "6a1424c3-5ea9-4557-91d5-c1e990d2bdb9",
   "metadata": {},
   "source": [
    "### Postseason Success: Results"
   ]
  },
  {
   "cell_type": "code",
   "execution_count": 25,
   "id": "e901cf06-e19b-4cea-95dc-2a5c24ac5761",
   "metadata": {},
   "outputs": [],
   "source": [
    "high_major_results = high_major_post.groupby('POSTSEASON').TEAM.count()\n",
    "mid_major_results = mid_major_post.groupby('POSTSEASON').TEAM.count()\n",
    "total_count = data.groupby('POSTSEASON').TEAM.count()"
   ]
  },
  {
   "cell_type": "code",
   "execution_count": 26,
   "id": "6bf62d09-91f3-4e1f-a319-40e545bd49ca",
   "metadata": {},
   "outputs": [
    {
     "data": {
      "image/png": "[encoded data removed]",
      "text/plain": [
       "<Figure size 432x288 with 1 Axes>"
      ]
     },
     "metadata": {
      "needs_background": "light"
     },
     "output_type": "display_data"
    }
   ],
   "source": [
    "plt.bar(total_count.index, total_count, color = 'orange', alpha = 0.5, label = 'All Teams')\n",
    "plt.bar(high_major_results.index, high_major_results, color = 'blue', alpha = 0.5, label = 'High Major Teams')\n",
    "plt.xlabel(\"Round in the Tournament\")\n",
    "plt.ylabel(\"Amount of Teams in this Round\")\n",
    "plt.title(\"High Major Dominance in Higher Rounds\")\n",
    "plt.legend()\n",
    "plt.show()"
   ]
  },
  {
   "cell_type": "markdown",
   "id": "f03be679-c1e2-466e-839d-9878f05481e3",
   "metadata": {},
   "source": [
    "As expected, because of the higher seeding and better play, high-major teams are much more likely to make it far in the tournament. The following graphic will prove that."
   ]
  },
  {
   "cell_type": "code",
   "execution_count": 27,
   "id": "91df45ae-c7aa-423c-a0d6-91ebb792569e",
   "metadata": {},
   "outputs": [
    {
     "data": {
      "image/png": "[encoded data removed]",
      "text/plain": [
       "<Figure size 432x288 with 1 Axes>"
      ]
     },
     "metadata": {
      "needs_background": "light"
     },
     "output_type": "display_data"
    }
   ],
   "source": [
    "success_seeds = data[data.POSTSEASON >= 'S16'].groupby('POSTSEASON').SEED.mean()\n",
    "success_seeds = success_seeds[3:8]\n",
    "def addlabels(x,y):\n",
    "    for i in range(len(x)):\n",
    "        plt.text(i, y[i] + 0.05, np.round(y[i],2), ha = 'center')\n",
    "plt.bar(success_seeds.index, success_seeds, color = 'b', alpha = 0.5)\n",
    "plt.xlabel(\"Result in Postseason\")\n",
    "plt.ylabel(\"Average Seed of Teams in this Round\")\n",
    "plt.title(\"Average Seed of Teams in Far Rounds\")\n",
    "addlabels(success_seeds.index, success_seeds)\n",
    "plt.show()"
   ]
  },
  {
   "cell_type": "markdown",
   "id": "18da9afd-cffc-4c5a-91b3-cb50e6ecd264",
   "metadata": {},
   "source": [
    "With our knowledge that the average seed for high major teams is around 5.9, it makes sense that majority of teams that go far are teams that belong to high major leagues."
   ]
  },
  {
   "cell_type": "markdown",
   "id": "67865ac8-e927-47e8-bd60-4315638ee4f2",
   "metadata": {},
   "source": [
    "### Postseason Success: Results of High Seeding\n",
    "\n",
    "To combine the last two sections, I want to explore how conferences affect how high-seeded teams finish in the tournament."
   ]
  },
  {
   "cell_type": "code",
   "execution_count": 28,
   "id": "9eced69c-ac21-44dd-b033-bb720dd8236a",
   "metadata": {},
   "outputs": [],
   "source": [
    "hm_top_6 = high_major_post[high_major_post.SEED <= 6]\n",
    "mm_top_6 = mid_major_post[mid_major_post.SEED <= 6]\n",
    "hm_top_6_results = hm_top_6.groupby('POSTSEASON').TEAM.count()\n",
    "mm_top_6_results = mm_top_6.groupby('POSTSEASON').TEAM.count()\n",
    "hm_top_6_results_prop = hm_top_6_results / len(hm_top_6)\n",
    "mm_top_6_results_prop = mm_top_6_results / len(mm_top_6)"
   ]
  },
  {
   "cell_type": "code",
   "execution_count": 29,
   "id": "c87ff00d-11e0-4c15-b073-8056f88058c1",
   "metadata": {},
   "outputs": [
    {
     "data": {
      "image/png": "[encoded data removed]",
      "text/plain": [
       "<Figure size 720x432 with 2 Axes>"
      ]
     },
     "metadata": {
      "needs_background": "light"
     },
     "output_type": "display_data"
    }
   ],
   "source": [
    "def addlabels2(x,y,z):\n",
    "    for i in range(len(x)):\n",
    "        plt.text(i, y[i] + 0.15, np.round(z[i],2), ha = 'center')\n",
    "plt.figure(figsize = (10, 6))\n",
    "plt.subplot(1,2,1)\n",
    "plt.bar(hm_top_6_results.index, hm_top_6_results, color = 'blue', alpha = 0.5)\n",
    "plt.xlabel('Results in Tournament')\n",
    "plt.ylabel('Number of Teams')\n",
    "plt.title('High Major Teams Seeded 6th or Higher')\n",
    "addlabels2(hm_top_6_results_prop.index, hm_top_6_results, hm_top_6_results_prop) \n",
    "\n",
    "plt.subplot(1,2,2)\n",
    "plt.bar(mm_top_6_results.index, mm_top_6_results, color = 'orange', alpha = 0.5)\n",
    "plt.xlabel('Results in Tournament')\n",
    "plt.ylabel('Number of Teams')\n",
    "plt.title('Mid Major Teams Seeded 6th or Higher')\n",
    "addlabels2(mm_top_6_results_prop.index, mm_top_6_results, mm_top_6_results_prop) \n",
    "plt.show()"
   ]
  },
  {
   "cell_type": "markdown",
   "id": "af08b1ea-65c0-4cad-a025-86c8a830d50b",
   "metadata": {},
   "source": [
    "Plotted here are the results of every team seeded 6th or higher, separated by high major vs mid major. The numbers on each bar represent the proportions of each result to account for the disparity in the amount of high seeded teams. \n",
    "\n",
    "As we can see, mid-major teams are more likely to get upset in the first two rounds, with 68% of them doing so, compared to the 48% of high major teams losing in the first weekend. This could be because mid-majors typically do not get the opportunities to play against good opponents during the regular season. If they were high-seeded, then they probably dominated their conference and had a lot of wins there. Once they get into the tournament, they are matched against power conference schools that have been playing against real competition their entire season. \"Upsets\" are bound to happen under this circumstance."
   ]
  },
  {
   "cell_type": "markdown",
   "id": "7ca166bd-612b-480f-8ceb-2e9625f9f452",
   "metadata": {},
   "source": [
    "## Mid Major Outliers"
   ]
  },
  {
   "cell_type": "markdown",
   "id": "a9d50ea8-6086-4576-8e9d-2dcb86219486",
   "metadata": {},
   "source": [
    "As we can see in all of our plots, while high major teams dominate postseason consistency, seeding, and success, there still are some mid major teams that have performed well over the last 9 years. "
   ]
  },
  {
   "cell_type": "code",
   "execution_count": 63,
   "id": "fbc63d9b-e82e-436c-aa76-181b83063316",
   "metadata": {},
   "outputs": [],
   "source": [
    "mm_consistent = mid_major_tourney[mid_major_tourney >= 5]\n",
    "mm_avg_seed = np.round(mid_major_post.groupby('TEAM').SEED.mean(),2)\n",
    "good_mid_majors = pd.concat([mm_consistent, mm_avg_seed], axis = 1).dropna(axis = 0).rename(columns = \n",
    "                {\"TOURNEY\" : \"TOURNAMENT APPEARANCES\", \"SEED\" : \"AVERAGE SEED\"})"
   ]
  },
  {
   "cell_type": "code",
   "execution_count": 64,
   "id": "d995a2ee-5c94-445e-b0a6-e9a88f2adb96",
   "metadata": {},
   "outputs": [
    {
     "data": {
      "text/html": [
       "<div>\n",
       "<style scoped>\n",
       "    .dataframe tbody tr th:only-of-type {\n",
       "        vertical-align: middle;\n",
       "    }\n",
       "\n",
       "    .dataframe tbody tr th {\n",
       "        vertical-align: top;\n",
       "    }\n",
       "\n",
       "    .dataframe thead th {\n",
       "        text-align: right;\n",
       "    }\n",
       "</style>\n",
       "<table border=\"1\" class=\"dataframe\">\n",
       "  <thead>\n",
       "    <tr style=\"text-align: right;\">\n",
       "      <th></th>\n",
       "      <th>TOURNAMENT APPEARANCES</th>\n",
       "      <th>AVERAGE SEED</th>\n",
       "    </tr>\n",
       "    <tr>\n",
       "      <th>TEAM</th>\n",
       "      <th></th>\n",
       "      <th></th>\n",
       "    </tr>\n",
       "  </thead>\n",
       "  <tbody>\n",
       "    <tr>\n",
       "      <th>Cincinnati</th>\n",
       "      <td>6.0</td>\n",
       "      <td>6.17</td>\n",
       "    </tr>\n",
       "    <tr>\n",
       "      <th>Gonzaga</th>\n",
       "      <td>9.0</td>\n",
       "      <td>3.33</td>\n",
       "    </tr>\n",
       "    <tr>\n",
       "      <th>Iona</th>\n",
       "      <td>6.0</td>\n",
       "      <td>14.67</td>\n",
       "    </tr>\n",
       "    <tr>\n",
       "      <th>New Mexico St.</th>\n",
       "      <td>7.0</td>\n",
       "      <td>13.00</td>\n",
       "    </tr>\n",
       "    <tr>\n",
       "      <th>San Diego St.</th>\n",
       "      <td>6.0</td>\n",
       "      <td>7.33</td>\n",
       "    </tr>\n",
       "    <tr>\n",
       "      <th>South Dakota St.</th>\n",
       "      <td>5.0</td>\n",
       "      <td>13.20</td>\n",
       "    </tr>\n",
       "    <tr>\n",
       "      <th>Texas Southern</th>\n",
       "      <td>6.0</td>\n",
       "      <td>15.83</td>\n",
       "    </tr>\n",
       "    <tr>\n",
       "      <th>VCU</th>\n",
       "      <td>7.0</td>\n",
       "      <td>7.86</td>\n",
       "    </tr>\n",
       "    <tr>\n",
       "      <th>Wichita St.</th>\n",
       "      <td>7.0</td>\n",
       "      <td>7.57</td>\n",
       "    </tr>\n",
       "  </tbody>\n",
       "</table>\n",
       "</div>"
      ],
      "text/plain": [
       "                  TOURNAMENT APPEARANCES  AVERAGE SEED\n",
       "TEAM                                                  \n",
       "Cincinnati                           6.0          6.17\n",
       "Gonzaga                              9.0          3.33\n",
       "Iona                                 6.0         14.67\n",
       "New Mexico St.                       7.0         13.00\n",
       "San Diego St.                        6.0          7.33\n",
       "South Dakota St.                     5.0         13.20\n",
       "Texas Southern                       6.0         15.83\n",
       "VCU                                  7.0          7.86\n",
       "Wichita St.                          7.0          7.57"
      ]
     },
     "execution_count": 64,
     "metadata": {},
     "output_type": "execute_result"
    }
   ],
   "source": [
    "good_mid_majors"
   ]
  },
  {
   "cell_type": "markdown",
   "id": "9f5420d8-6816-4d6f-96eb-002b68fb1ded",
   "metadata": {},
   "source": [
    "Here are all the mid-majors who have made at least 5 tournaments out of the last 9, along with the average seed of each team. "
   ]
  },
  {
   "cell_type": "code",
   "execution_count": 32,
   "id": "cad080b1-8e0f-415c-a7a6-94fb55edb29d",
   "metadata": {},
   "outputs": [
    {
     "data": {
      "text/html": [
       "<div>\n",
       "<style scoped>\n",
       "    .dataframe tbody tr th:only-of-type {\n",
       "        vertical-align: middle;\n",
       "    }\n",
       "\n",
       "    .dataframe tbody tr th {\n",
       "        vertical-align: top;\n",
       "    }\n",
       "\n",
       "    .dataframe thead th {\n",
       "        text-align: right;\n",
       "    }\n",
       "</style>\n",
       "<table border=\"1\" class=\"dataframe\">\n",
       "  <thead>\n",
       "    <tr style=\"text-align: right;\">\n",
       "      <th></th>\n",
       "      <th>APPEARANCES AS TOP 4 SEED</th>\n",
       "    </tr>\n",
       "    <tr>\n",
       "      <th>TEAM</th>\n",
       "      <th></th>\n",
       "    </tr>\n",
       "  </thead>\n",
       "  <tbody>\n",
       "    <tr>\n",
       "      <th>Cincinnati</th>\n",
       "      <td>1</td>\n",
       "    </tr>\n",
       "    <tr>\n",
       "      <th>Gonzaga</th>\n",
       "      <td>7</td>\n",
       "    </tr>\n",
       "    <tr>\n",
       "      <th>Houston</th>\n",
       "      <td>2</td>\n",
       "    </tr>\n",
       "    <tr>\n",
       "      <th>Louisville</th>\n",
       "      <td>1</td>\n",
       "    </tr>\n",
       "    <tr>\n",
       "      <th>New Mexico</th>\n",
       "      <td>1</td>\n",
       "    </tr>\n",
       "    <tr>\n",
       "      <th>Saint Louis</th>\n",
       "      <td>1</td>\n",
       "    </tr>\n",
       "    <tr>\n",
       "      <th>San Diego St.</th>\n",
       "      <td>1</td>\n",
       "    </tr>\n",
       "    <tr>\n",
       "      <th>Wichita St.</th>\n",
       "      <td>2</td>\n",
       "    </tr>\n",
       "  </tbody>\n",
       "</table>\n",
       "</div>"
      ],
      "text/plain": [
       "               APPEARANCES AS TOP 4 SEED\n",
       "TEAM                                    \n",
       "Cincinnati                             1\n",
       "Gonzaga                                7\n",
       "Houston                                2\n",
       "Louisville                             1\n",
       "New Mexico                             1\n",
       "Saint Louis                            1\n",
       "San Diego St.                          1\n",
       "Wichita St.                            2"
      ]
     },
     "execution_count": 32,
     "metadata": {},
     "output_type": "execute_result"
    }
   ],
   "source": [
    "mm_top_seeds = mid_major_post[mid_major_post.SEED <= 4]\n",
    "pd.DataFrame(mm_top_seeds.groupby('TEAM').TEAM.count()).rename(columns = {'TEAM':'APPEARANCES AS TOP 4 SEED'}) "
   ]
  },
  {
   "cell_type": "markdown",
   "id": "ef796257-c79a-4856-9c45-054542041a2f",
   "metadata": {},
   "source": [
    "Here are all the mid-majors that have been a 4 seed or higher in the last 9 tournaments."
   ]
  },
  {
   "cell_type": "markdown",
   "id": "fafc6be2-56eb-400b-935d-90e1d944732c",
   "metadata": {},
   "source": [
    "### Gonzaga Bulldogs"
   ]
  },
  {
   "cell_type": "markdown",
   "id": "774baadc-4595-45ee-8c15-4ef386cd0278",
   "metadata": {},
   "source": [
    "Clearly from our tables, Gonzaga seems to be the most impressive mid-major team. We will take a closer look at this outlier."
   ]
  },
  {
   "cell_type": "code",
   "execution_count": 33,
   "id": "3de4269d-f6af-42cc-833d-4daf380f1536",
   "metadata": {},
   "outputs": [
    {
     "data": {
      "text/html": [
       "<div>\n",
       "<style scoped>\n",
       "    .dataframe tbody tr th:only-of-type {\n",
       "        vertical-align: middle;\n",
       "    }\n",
       "\n",
       "    .dataframe tbody tr th {\n",
       "        vertical-align: top;\n",
       "    }\n",
       "\n",
       "    .dataframe thead th {\n",
       "        text-align: right;\n",
       "    }\n",
       "</style>\n",
       "<table border=\"1\" class=\"dataframe\">\n",
       "  <thead>\n",
       "    <tr style=\"text-align: right;\">\n",
       "      <th></th>\n",
       "      <th>YEAR</th>\n",
       "      <th>SEED</th>\n",
       "      <th>POSTSEASON</th>\n",
       "    </tr>\n",
       "  </thead>\n",
       "  <tbody>\n",
       "    <tr>\n",
       "      <th>2836</th>\n",
       "      <td>2013</td>\n",
       "      <td>1.0</td>\n",
       "      <td>R32</td>\n",
       "    </tr>\n",
       "    <tr>\n",
       "      <th>2829</th>\n",
       "      <td>2014</td>\n",
       "      <td>8.0</td>\n",
       "      <td>R32</td>\n",
       "    </tr>\n",
       "    <tr>\n",
       "      <th>737</th>\n",
       "      <td>2015</td>\n",
       "      <td>2.0</td>\n",
       "      <td>E8</td>\n",
       "    </tr>\n",
       "    <tr>\n",
       "      <th>3142</th>\n",
       "      <td>2016</td>\n",
       "      <td>11.0</td>\n",
       "      <td>S16</td>\n",
       "    </tr>\n",
       "    <tr>\n",
       "      <th>709</th>\n",
       "      <td>2017</td>\n",
       "      <td>1.0</td>\n",
       "      <td>2ND</td>\n",
       "    </tr>\n",
       "    <tr>\n",
       "      <th>3143</th>\n",
       "      <td>2018</td>\n",
       "      <td>4.0</td>\n",
       "      <td>S16</td>\n",
       "    </tr>\n",
       "    <tr>\n",
       "      <th>738</th>\n",
       "      <td>2019</td>\n",
       "      <td>1.0</td>\n",
       "      <td>E8</td>\n",
       "    </tr>\n",
       "    <tr>\n",
       "      <th>358</th>\n",
       "      <td>2021</td>\n",
       "      <td>1.0</td>\n",
       "      <td>2ND</td>\n",
       "    </tr>\n",
       "    <tr>\n",
       "      <th>0</th>\n",
       "      <td>2022</td>\n",
       "      <td>1.0</td>\n",
       "      <td>S16</td>\n",
       "    </tr>\n",
       "  </tbody>\n",
       "</table>\n",
       "</div>"
      ],
      "text/plain": [
       "      YEAR  SEED POSTSEASON\n",
       "2836  2013   1.0        R32\n",
       "2829  2014   8.0        R32\n",
       "737   2015   2.0         E8\n",
       "3142  2016  11.0        S16\n",
       "709   2017   1.0        2ND\n",
       "3143  2018   4.0        S16\n",
       "738   2019   1.0         E8\n",
       "358   2021   1.0        2ND\n",
       "0     2022   1.0        S16"
      ]
     },
     "execution_count": 33,
     "metadata": {},
     "output_type": "execute_result"
    }
   ],
   "source": [
    "gonzaga = data[data.TEAM == 'Gonzaga']\n",
    "gonzaga[['YEAR', 'SEED', 'POSTSEASON']].sort_values('YEAR')"
   ]
  },
  {
   "cell_type": "markdown",
   "id": "441d134a-d9e6-4f50-aeba-6357d2e26b05",
   "metadata": {},
   "source": [
    "Though Gonzaga has not won a national championship in recent history, it has consistently been a national powerhouse despite coming from a mid-major conference. With a population of under 8,000 students, Gonzaga puts majority of its focus and resources into its basketball program. Coached by a future Hall of Fame coach in Mark Few, Gonzaga maintains its success through strong recruiting classes and veteran players. Only once in the last 9 tournaments has Gonzaga been a double digit seed, which we saw is very common for mid majors. Even then, Gonzaga made it to the Sweet Sixteen that year."
   ]
  },
  {
   "cell_type": "code",
   "execution_count": 34,
   "id": "a5ba27ad-4651-4c3c-9e2c-1171d5d71de7",
   "metadata": {},
   "outputs": [
    {
     "data": {
      "image/png": "[encoded data removed]",
      "text/plain": [
       "<Figure size 432x288 with 1 Axes>"
      ]
     },
     "metadata": {
      "needs_background": "light"
     },
     "output_type": "display_data"
    }
   ],
   "source": [
    "wcc = data[data.CONF == 'WCC']\n",
    "plt.scatter(wcc.ADJOE, wcc.ADJDE, color = 'gray', alpha = 0.5, label = 'West Coast Conference Teams')\n",
    "plt.scatter(gonzaga.ADJOE, gonzaga.ADJDE, color = 'red', alpha = 0.5, label = 'Gonzaga')\n",
    "plt.xlabel('Adjusted Offensive Efficiency')\n",
    "plt.ylabel('Adjusted Defensive Efficiency')\n",
    "plt.title('Gonzaga vs. Rest of WCC')\n",
    "plt.legend()\n",
    "plt.show()"
   ]
  },
  {
   "cell_type": "markdown",
   "id": "400db8d5-e706-4d96-a5cb-3b7cac1a0c2e",
   "metadata": {},
   "source": [
    "Gonzaga has dominated the West Coast Conference for the last decade, acting as outliers in adjusted offensive and defensive efficiency in the conference. Though the data does not show it, Gonzaga has actually been dominating this conference for many decades. \n",
    "\n",
    "### Houston Cougars"
   ]
  },
  {
   "cell_type": "code",
   "execution_count": 35,
   "id": "3416843a-1c71-4238-8d6a-8b8a1a819b30",
   "metadata": {},
   "outputs": [
    {
     "data": {
      "text/html": [
       "<div>\n",
       "<style scoped>\n",
       "    .dataframe tbody tr th:only-of-type {\n",
       "        vertical-align: middle;\n",
       "    }\n",
       "\n",
       "    .dataframe tbody tr th {\n",
       "        vertical-align: top;\n",
       "    }\n",
       "\n",
       "    .dataframe thead th {\n",
       "        text-align: right;\n",
       "    }\n",
       "</style>\n",
       "<table border=\"1\" class=\"dataframe\">\n",
       "  <thead>\n",
       "    <tr style=\"text-align: right;\">\n",
       "      <th></th>\n",
       "      <th>TEAM</th>\n",
       "      <th>ADJOE</th>\n",
       "      <th>ADJDE</th>\n",
       "      <th>POSTSEASON</th>\n",
       "      <th>SEED</th>\n",
       "      <th>YEAR</th>\n",
       "    </tr>\n",
       "  </thead>\n",
       "  <tbody>\n",
       "    <tr>\n",
       "      <th>1</th>\n",
       "      <td>Houston</td>\n",
       "      <td>116.5</td>\n",
       "      <td>88.5</td>\n",
       "      <td>E8</td>\n",
       "      <td>5.0</td>\n",
       "      <td>2022</td>\n",
       "    </tr>\n",
       "    <tr>\n",
       "      <th>360</th>\n",
       "      <td>Houston</td>\n",
       "      <td>119.1</td>\n",
       "      <td>91.3</td>\n",
       "      <td>F4</td>\n",
       "      <td>2.0</td>\n",
       "      <td>2021</td>\n",
       "    </tr>\n",
       "    <tr>\n",
       "      <th>3113</th>\n",
       "      <td>Houston</td>\n",
       "      <td>115.7</td>\n",
       "      <td>90.5</td>\n",
       "      <td>S16</td>\n",
       "      <td>3.0</td>\n",
       "      <td>2019</td>\n",
       "    </tr>\n",
       "    <tr>\n",
       "      <th>2757</th>\n",
       "      <td>Houston</td>\n",
       "      <td>114.8</td>\n",
       "      <td>93.9</td>\n",
       "      <td>R32</td>\n",
       "      <td>6.0</td>\n",
       "      <td>2018</td>\n",
       "    </tr>\n",
       "    <tr>\n",
       "      <th>912</th>\n",
       "      <td>Houston</td>\n",
       "      <td>112.8</td>\n",
       "      <td>98.1</td>\n",
       "      <td>NaN</td>\n",
       "      <td>NaN</td>\n",
       "      <td>2017</td>\n",
       "    </tr>\n",
       "    <tr>\n",
       "      <th>904</th>\n",
       "      <td>Houston</td>\n",
       "      <td>116.2</td>\n",
       "      <td>104.6</td>\n",
       "      <td>NaN</td>\n",
       "      <td>NaN</td>\n",
       "      <td>2016</td>\n",
       "    </tr>\n",
       "    <tr>\n",
       "      <th>896</th>\n",
       "      <td>Houston</td>\n",
       "      <td>100.9</td>\n",
       "      <td>102.3</td>\n",
       "      <td>NaN</td>\n",
       "      <td>NaN</td>\n",
       "      <td>2015</td>\n",
       "    </tr>\n",
       "    <tr>\n",
       "      <th>2270</th>\n",
       "      <td>Houston</td>\n",
       "      <td>110.7</td>\n",
       "      <td>107.9</td>\n",
       "      <td>NaN</td>\n",
       "      <td>NaN</td>\n",
       "      <td>2014</td>\n",
       "    </tr>\n",
       "    <tr>\n",
       "      <th>2563</th>\n",
       "      <td>Houston</td>\n",
       "      <td>106.0</td>\n",
       "      <td>106.0</td>\n",
       "      <td>NaN</td>\n",
       "      <td>NaN</td>\n",
       "      <td>2013</td>\n",
       "    </tr>\n",
       "  </tbody>\n",
       "</table>\n",
       "</div>"
      ],
      "text/plain": [
       "         TEAM  ADJOE  ADJDE POSTSEASON  SEED  YEAR\n",
       "1     Houston  116.5   88.5         E8   5.0  2022\n",
       "360   Houston  119.1   91.3         F4   2.0  2021\n",
       "3113  Houston  115.7   90.5        S16   3.0  2019\n",
       "2757  Houston  114.8   93.9        R32   6.0  2018\n",
       "912   Houston  112.8   98.1        NaN   NaN  2017\n",
       "904   Houston  116.2  104.6        NaN   NaN  2016\n",
       "896   Houston  100.9  102.3        NaN   NaN  2015\n",
       "2270  Houston  110.7  107.9        NaN   NaN  2014\n",
       "2563  Houston  106.0  106.0        NaN   NaN  2013"
      ]
     },
     "execution_count": 35,
     "metadata": {},
     "output_type": "execute_result"
    }
   ],
   "source": [
    "data[data.TEAM == 'Houston'].sort_values('YEAR', ascending = False)[['TEAM', 'ADJOE', \n",
    "    'ADJDE', 'POSTSEASON', 'SEED', 'YEAR']]"
   ]
  },
  {
   "cell_type": "markdown",
   "id": "646b61e4-7389-443c-8f5f-94a2c75b5cef",
   "metadata": {},
   "source": [
    "As we can see, Houston has been on the rise for the last 5 seasons, having made the tournament as a high seed each time. Houston's defense has become one of the strongest in the nation, allowing them to match up with high-major teams when it matters. \n",
    "\n",
    "However, as happens with many successful mid-majors in past history, Houston is planning to move into a high-major conference (the Big 12) next year to match up with better competition."
   ]
  },
  {
   "cell_type": "markdown",
   "id": "e39fda4e-bcd8-43d9-9027-4afb01a420e8",
   "metadata": {},
   "source": [
    "### Wichita St. Shockers"
   ]
  },
  {
   "cell_type": "code",
   "execution_count": 36,
   "id": "25555b9f-2a99-49d4-a211-ce4b6a418182",
   "metadata": {},
   "outputs": [
    {
     "data": {
      "text/html": [
       "<div>\n",
       "<style scoped>\n",
       "    .dataframe tbody tr th:only-of-type {\n",
       "        vertical-align: middle;\n",
       "    }\n",
       "\n",
       "    .dataframe tbody tr th {\n",
       "        vertical-align: top;\n",
       "    }\n",
       "\n",
       "    .dataframe thead th {\n",
       "        text-align: right;\n",
       "    }\n",
       "</style>\n",
       "<table border=\"1\" class=\"dataframe\">\n",
       "  <thead>\n",
       "    <tr style=\"text-align: right;\">\n",
       "      <th></th>\n",
       "      <th>TEAM</th>\n",
       "      <th>ADJOE</th>\n",
       "      <th>ADJDE</th>\n",
       "      <th>POSTSEASON</th>\n",
       "      <th>SEED</th>\n",
       "      <th>YEAR</th>\n",
       "    </tr>\n",
       "  </thead>\n",
       "  <tbody>\n",
       "    <tr>\n",
       "      <th>88</th>\n",
       "      <td>Wichita St.</td>\n",
       "      <td>103.9</td>\n",
       "      <td>95.5</td>\n",
       "      <td>NaN</td>\n",
       "      <td>NaN</td>\n",
       "      <td>2022</td>\n",
       "    </tr>\n",
       "    <tr>\n",
       "      <th>426</th>\n",
       "      <td>Wichita St.</td>\n",
       "      <td>108.4</td>\n",
       "      <td>97.3</td>\n",
       "      <td>R68</td>\n",
       "      <td>11.0</td>\n",
       "      <td>2021</td>\n",
       "    </tr>\n",
       "    <tr>\n",
       "      <th>935</th>\n",
       "      <td>Wichita St.</td>\n",
       "      <td>106.5</td>\n",
       "      <td>94.7</td>\n",
       "      <td>NaN</td>\n",
       "      <td>NaN</td>\n",
       "      <td>2019</td>\n",
       "    </tr>\n",
       "    <tr>\n",
       "      <th>2878</th>\n",
       "      <td>Wichita St.</td>\n",
       "      <td>120.9</td>\n",
       "      <td>102.7</td>\n",
       "      <td>R64</td>\n",
       "      <td>4.0</td>\n",
       "      <td>2018</td>\n",
       "    </tr>\n",
       "    <tr>\n",
       "      <th>2800</th>\n",
       "      <td>Wichita St.</td>\n",
       "      <td>117.2</td>\n",
       "      <td>92.2</td>\n",
       "      <td>R32</td>\n",
       "      <td>10.0</td>\n",
       "      <td>2017</td>\n",
       "    </tr>\n",
       "    <tr>\n",
       "      <th>2799</th>\n",
       "      <td>Wichita St.</td>\n",
       "      <td>110.3</td>\n",
       "      <td>87.8</td>\n",
       "      <td>R32</td>\n",
       "      <td>11.0</td>\n",
       "      <td>2016</td>\n",
       "    </tr>\n",
       "    <tr>\n",
       "      <th>3130</th>\n",
       "      <td>Wichita St.</td>\n",
       "      <td>114.3</td>\n",
       "      <td>91.5</td>\n",
       "      <td>S16</td>\n",
       "      <td>7.0</td>\n",
       "      <td>2015</td>\n",
       "    </tr>\n",
       "    <tr>\n",
       "      <th>2820</th>\n",
       "      <td>Wichita St.</td>\n",
       "      <td>116.4</td>\n",
       "      <td>93.0</td>\n",
       "      <td>R32</td>\n",
       "      <td>1.0</td>\n",
       "      <td>2014</td>\n",
       "    </tr>\n",
       "    <tr>\n",
       "      <th>760</th>\n",
       "      <td>Wichita St.</td>\n",
       "      <td>110.6</td>\n",
       "      <td>91.0</td>\n",
       "      <td>F4</td>\n",
       "      <td>9.0</td>\n",
       "      <td>2013</td>\n",
       "    </tr>\n",
       "  </tbody>\n",
       "</table>\n",
       "</div>"
      ],
      "text/plain": [
       "             TEAM  ADJOE  ADJDE POSTSEASON  SEED  YEAR\n",
       "88    Wichita St.  103.9   95.5        NaN   NaN  2022\n",
       "426   Wichita St.  108.4   97.3        R68  11.0  2021\n",
       "935   Wichita St.  106.5   94.7        NaN   NaN  2019\n",
       "2878  Wichita St.  120.9  102.7        R64   4.0  2018\n",
       "2800  Wichita St.  117.2   92.2        R32  10.0  2017\n",
       "2799  Wichita St.  110.3   87.8        R32  11.0  2016\n",
       "3130  Wichita St.  114.3   91.5        S16   7.0  2015\n",
       "2820  Wichita St.  116.4   93.0        R32   1.0  2014\n",
       "760   Wichita St.  110.6   91.0         F4   9.0  2013"
      ]
     },
     "execution_count": 36,
     "metadata": {},
     "output_type": "execute_result"
    }
   ],
   "source": [
    "data[data.TEAM == 'Wichita St.'].sort_values('YEAR', ascending = False)[['TEAM', 'ADJOE', \n",
    "    'ADJDE', 'POSTSEASON', 'SEED', 'YEAR']]"
   ]
  },
  {
   "cell_type": "markdown",
   "id": "6d217e3a-0675-4b42-80f3-cd3539a9477c",
   "metadata": {},
   "source": [
    "Wichita St. is sort of an opposite story to Houston. Before the last 5 seasons, Wichita State was a relatively strong mid-major school, making the tournmanet in 6 straight years and seeding high.\n",
    "\n",
    "### Mid Major Postseason"
   ]
  },
  {
   "cell_type": "code",
   "execution_count": 37,
   "id": "9f4740bc-3513-407c-ba22-321b7717011f",
   "metadata": {},
   "outputs": [
    {
     "data": {
      "text/html": [
       "<div>\n",
       "<style scoped>\n",
       "    .dataframe tbody tr th:only-of-type {\n",
       "        vertical-align: middle;\n",
       "    }\n",
       "\n",
       "    .dataframe tbody tr th {\n",
       "        vertical-align: top;\n",
       "    }\n",
       "\n",
       "    .dataframe thead th {\n",
       "        text-align: right;\n",
       "    }\n",
       "</style>\n",
       "<table border=\"1\" class=\"dataframe\">\n",
       "  <thead>\n",
       "    <tr style=\"text-align: right;\">\n",
       "      <th></th>\n",
       "      <th>TEAM</th>\n",
       "      <th>YEAR</th>\n",
       "      <th>CONF</th>\n",
       "      <th>ADJOE</th>\n",
       "      <th>ADJDE</th>\n",
       "      <th>SEED</th>\n",
       "      <th>POSTSEASON</th>\n",
       "    </tr>\n",
       "  </thead>\n",
       "  <tbody>\n",
       "    <tr>\n",
       "      <th>1</th>\n",
       "      <td>Houston</td>\n",
       "      <td>2022</td>\n",
       "      <td>Amer</td>\n",
       "      <td>116.5</td>\n",
       "      <td>88.5</td>\n",
       "      <td>5.0</td>\n",
       "      <td>E8</td>\n",
       "    </tr>\n",
       "    <tr>\n",
       "      <th>103</th>\n",
       "      <td>Saint Peter's</td>\n",
       "      <td>2022</td>\n",
       "      <td>MAAC</td>\n",
       "      <td>99.4</td>\n",
       "      <td>93.1</td>\n",
       "      <td>15.0</td>\n",
       "      <td>E8</td>\n",
       "    </tr>\n",
       "    <tr>\n",
       "      <th>358</th>\n",
       "      <td>Gonzaga</td>\n",
       "      <td>2021</td>\n",
       "      <td>WCC</td>\n",
       "      <td>125.9</td>\n",
       "      <td>90.9</td>\n",
       "      <td>1.0</td>\n",
       "      <td>2ND</td>\n",
       "    </tr>\n",
       "    <tr>\n",
       "      <th>360</th>\n",
       "      <td>Houston</td>\n",
       "      <td>2021</td>\n",
       "      <td>Amer</td>\n",
       "      <td>119.1</td>\n",
       "      <td>91.3</td>\n",
       "      <td>2.0</td>\n",
       "      <td>F4</td>\n",
       "    </tr>\n",
       "    <tr>\n",
       "      <th>709</th>\n",
       "      <td>Gonzaga</td>\n",
       "      <td>2017</td>\n",
       "      <td>WCC</td>\n",
       "      <td>117.8</td>\n",
       "      <td>86.3</td>\n",
       "      <td>1.0</td>\n",
       "      <td>2ND</td>\n",
       "    </tr>\n",
       "    <tr>\n",
       "      <th>717</th>\n",
       "      <td>Connecticut</td>\n",
       "      <td>2014</td>\n",
       "      <td>Amer</td>\n",
       "      <td>112.5</td>\n",
       "      <td>91.3</td>\n",
       "      <td>7.0</td>\n",
       "      <td>Champions</td>\n",
       "    </tr>\n",
       "    <tr>\n",
       "      <th>737</th>\n",
       "      <td>Gonzaga</td>\n",
       "      <td>2015</td>\n",
       "      <td>WCC</td>\n",
       "      <td>120.2</td>\n",
       "      <td>93.1</td>\n",
       "      <td>2.0</td>\n",
       "      <td>E8</td>\n",
       "    </tr>\n",
       "    <tr>\n",
       "      <th>738</th>\n",
       "      <td>Gonzaga</td>\n",
       "      <td>2019</td>\n",
       "      <td>WCC</td>\n",
       "      <td>123.4</td>\n",
       "      <td>89.9</td>\n",
       "      <td>1.0</td>\n",
       "      <td>E8</td>\n",
       "    </tr>\n",
       "    <tr>\n",
       "      <th>742</th>\n",
       "      <td>Dayton</td>\n",
       "      <td>2014</td>\n",
       "      <td>A10</td>\n",
       "      <td>113.0</td>\n",
       "      <td>99.1</td>\n",
       "      <td>11.0</td>\n",
       "      <td>E8</td>\n",
       "    </tr>\n",
       "    <tr>\n",
       "      <th>752</th>\n",
       "      <td>Loyola Chicago</td>\n",
       "      <td>2018</td>\n",
       "      <td>MVC</td>\n",
       "      <td>110.5</td>\n",
       "      <td>95.4</td>\n",
       "      <td>11.0</td>\n",
       "      <td>F4</td>\n",
       "    </tr>\n",
       "    <tr>\n",
       "      <th>760</th>\n",
       "      <td>Wichita St.</td>\n",
       "      <td>2013</td>\n",
       "      <td>MVC</td>\n",
       "      <td>110.6</td>\n",
       "      <td>91.0</td>\n",
       "      <td>9.0</td>\n",
       "      <td>F4</td>\n",
       "    </tr>\n",
       "  </tbody>\n",
       "</table>\n",
       "</div>"
      ],
      "text/plain": [
       "               TEAM  YEAR  CONF  ADJOE  ADJDE  SEED POSTSEASON\n",
       "1           Houston  2022  Amer  116.5   88.5   5.0         E8\n",
       "103   Saint Peter's  2022  MAAC   99.4   93.1  15.0         E8\n",
       "358         Gonzaga  2021   WCC  125.9   90.9   1.0        2ND\n",
       "360         Houston  2021  Amer  119.1   91.3   2.0         F4\n",
       "709         Gonzaga  2017   WCC  117.8   86.3   1.0        2ND\n",
       "717     Connecticut  2014  Amer  112.5   91.3   7.0  Champions\n",
       "737         Gonzaga  2015   WCC  120.2   93.1   2.0         E8\n",
       "738         Gonzaga  2019   WCC  123.4   89.9   1.0         E8\n",
       "742          Dayton  2014   A10  113.0   99.1  11.0         E8\n",
       "752  Loyola Chicago  2018   MVC  110.5   95.4  11.0         F4\n",
       "760     Wichita St.  2013   MVC  110.6   91.0   9.0         F4"
      ]
     },
     "execution_count": 37,
     "metadata": {},
     "output_type": "execute_result"
    }
   ],
   "source": [
    "mid_major_post[mid_major_post.POSTSEASON >= 'E8'][['TEAM', 'YEAR', 'CONF', 'ADJOE', 'ADJDE', 'SEED', 'POSTSEASON']]"
   ]
  },
  {
   "cell_type": "markdown",
   "id": "aaacf0a0-9596-44b1-83a2-593398f914ce",
   "metadata": {},
   "source": [
    "Above is a chart of all the mid-major teams that have made it to the elite eight or farther in the last 9 years. The only schools that have done so more than once are Gonzaga (4) and Houston (2). Every other team has been a miraculous Cinderalla story without any consistency. The only team to have won the entire tournament is the University of Conneticut (UCONN) from the American conference in 2014. However, UCONN later joined a power conference in the Big East shortly after. \n",
    "\n",
    "As we explore mid-major teams, it becomes more and more clear that Gonzaga is simply an outlier. No mid-major team will be able to maintain consistent success like Gonzaga has. While Wichita St. put together a run of strong seasons, it has since fallen out of relevancy. Houston seemed to be a potential competitor, but it is moving to a high major conference soon. \n",
    "\n",
    "### Cinderella Teams\n",
    "\n",
    "In this section, we will explore mid-major Cinderella teams and whether they share common statistics. My definition of a Cinderella Team is a team seeded 9th or worse making it to the Sweet 16 or better. Doing so would mean they have to beat a higher seed in the first round, then win at least another matchup. A team that is seeded as a 9 seed would have to beat the 1 seed to advance to the Sweet 16, so I included them in my definition of a Cinderella team."
   ]
  },
  {
   "cell_type": "code",
   "execution_count": 38,
   "id": "b51fe025-9994-45c4-b25d-565c6b1fedde",
   "metadata": {},
   "outputs": [
    {
     "data": {
      "text/html": [
       "<div>\n",
       "<style scoped>\n",
       "    .dataframe tbody tr th:only-of-type {\n",
       "        vertical-align: middle;\n",
       "    }\n",
       "\n",
       "    .dataframe tbody tr th {\n",
       "        vertical-align: top;\n",
       "    }\n",
       "\n",
       "    .dataframe thead th {\n",
       "        text-align: right;\n",
       "    }\n",
       "</style>\n",
       "<table border=\"1\" class=\"dataframe\">\n",
       "  <thead>\n",
       "    <tr style=\"text-align: right;\">\n",
       "      <th></th>\n",
       "      <th>TEAM</th>\n",
       "      <th>CONF</th>\n",
       "      <th>POSTSEASON</th>\n",
       "      <th>SEED</th>\n",
       "    </tr>\n",
       "  </thead>\n",
       "  <tbody>\n",
       "    <tr>\n",
       "      <th>103</th>\n",
       "      <td>Saint Peter's</td>\n",
       "      <td>MAAC</td>\n",
       "      <td>E8</td>\n",
       "      <td>15.0</td>\n",
       "    </tr>\n",
       "    <tr>\n",
       "      <th>480</th>\n",
       "      <td>Oral Roberts</td>\n",
       "      <td>Sum</td>\n",
       "      <td>S16</td>\n",
       "      <td>15.0</td>\n",
       "    </tr>\n",
       "    <tr>\n",
       "      <th>742</th>\n",
       "      <td>Dayton</td>\n",
       "      <td>A10</td>\n",
       "      <td>E8</td>\n",
       "      <td>11.0</td>\n",
       "    </tr>\n",
       "    <tr>\n",
       "      <th>752</th>\n",
       "      <td>Loyola Chicago</td>\n",
       "      <td>MVC</td>\n",
       "      <td>F4</td>\n",
       "      <td>11.0</td>\n",
       "    </tr>\n",
       "    <tr>\n",
       "      <th>760</th>\n",
       "      <td>Wichita St.</td>\n",
       "      <td>MVC</td>\n",
       "      <td>F4</td>\n",
       "      <td>9.0</td>\n",
       "    </tr>\n",
       "    <tr>\n",
       "      <th>3142</th>\n",
       "      <td>Gonzaga</td>\n",
       "      <td>WCC</td>\n",
       "      <td>S16</td>\n",
       "      <td>11.0</td>\n",
       "    </tr>\n",
       "    <tr>\n",
       "      <th>3158</th>\n",
       "      <td>La Salle</td>\n",
       "      <td>A10</td>\n",
       "      <td>S16</td>\n",
       "      <td>13.0</td>\n",
       "    </tr>\n",
       "    <tr>\n",
       "      <th>3159</th>\n",
       "      <td>Florida Gulf Coast</td>\n",
       "      <td>ASun</td>\n",
       "      <td>S16</td>\n",
       "      <td>15.0</td>\n",
       "    </tr>\n",
       "  </tbody>\n",
       "</table>\n",
       "</div>"
      ],
      "text/plain": [
       "                    TEAM  CONF POSTSEASON  SEED\n",
       "103        Saint Peter's  MAAC         E8  15.0\n",
       "480         Oral Roberts   Sum        S16  15.0\n",
       "742               Dayton   A10         E8  11.0\n",
       "752       Loyola Chicago   MVC         F4  11.0\n",
       "760          Wichita St.   MVC         F4   9.0\n",
       "3142             Gonzaga   WCC        S16  11.0\n",
       "3158            La Salle   A10        S16  13.0\n",
       "3159  Florida Gulf Coast  ASun        S16  15.0"
      ]
     },
     "execution_count": 38,
     "metadata": {},
     "output_type": "execute_result"
    }
   ],
   "source": [
    "cinderella = mid_major_post[(mid_major_post.SEED >= 9) & (mid_major_post.POSTSEASON >= 'S16')]\n",
    "cinderella[['TEAM', 'CONF', 'POSTSEASON', 'SEED']]"
   ]
  },
  {
   "cell_type": "markdown",
   "id": "69662095-d1b8-46a7-8587-3e1f1cd39838",
   "metadata": {},
   "source": [
    "There have been 8 cinderellas in the last 9 tournaments, with the most recent two being 15 seeds. We will compare their stats with other mid-major teams seeded 9th or worse to see if there are any patterns in these specific Cinderella teams."
   ]
  },
  {
   "cell_type": "code",
   "execution_count": 39,
   "id": "d7ace608-ab0a-4437-b91e-db725d49904d",
   "metadata": {},
   "outputs": [],
   "source": [
    "non_cinderella = mid_major_post[(mid_major_post.SEED >= 9) & (mid_major_post.POSTSEASON < 'S16')]\n",
    "stats = ['ADJOE', 'ADJDE', 'EFG_O', 'EFG_D', 'TOR', 'TORD', 'ORB', 'DRB', 'FTR', '2P_O', '3P_O', 'ADJ_T']\n",
    "cinderella_avg = []\n",
    "non_cinderella_avg = []\n",
    "for stat in stats:\n",
    "    cinderella_avg.append(cinderella[stat].mean())\n",
    "    non_cinderella_avg.append(non_cinderella[stat].mean())"
   ]
  },
  {
   "cell_type": "code",
   "execution_count": 40,
   "id": "c502e023-1a2f-4b39-9498-42cbec7745ba",
   "metadata": {},
   "outputs": [
    {
     "data": {
      "image/png": "[encoded data removed]",
      "text/plain": [
       "<Figure size 432x288 with 1 Axes>"
      ]
     },
     "metadata": {
      "needs_background": "light"
     },
     "output_type": "display_data"
    }
   ],
   "source": [
    "ind = np.arange(12)\n",
    "width = 0.3\n",
    "plt.bar(ind, cinderella_avg , width, label='Cinderella Teams', color = 'blue', alpha = 0.5)\n",
    "plt.bar(ind + width, non_cinderella_avg, width, label='Non Cinderella Teams', color = 'orange', alpha = 0.5)\n",
    "plt.xlabel('Statistic (Regular Season)')\n",
    "plt.ylabel('Average')\n",
    "plt.title('Cinderella Teams vs. Non-Cinderella Teams')\n",
    "plt.xticks(ind + width / 2, ('ADJOE', 'ADJDE', 'EFG_O', 'EFG_D', 'TOR', 'TORD', 'ORB', 'DRB', 'FTR', '2P_O', '3P_O', 'ADJ_T'),\n",
    "          rotation = 45)\n",
    "plt.legend(loc='best')\n",
    "plt.show()"
   ]
  },
  {
   "cell_type": "markdown",
   "id": "b833b59f-2ae0-43d5-9fad-5c284eb3670f",
   "metadata": {},
   "source": [
    "We see that the mean stats for cinderella teams are very similar to those of non-cinderella teams. The only differences is that on average, cinderella teams have a better offensive and defensive efficiency, which coincides with our previous findings that teams that go far into the tournament typically have higher offensive efficiency and lower defensive efficiency. So, when picking your bracket, if you want to find a cinderella team to support, adjusted offensive and defensive efficiency are the stats to look at."
   ]
  },
  {
   "cell_type": "markdown",
   "id": "b46fad5e-942b-4f2a-9633-a3b47ad37281",
   "metadata": {},
   "source": [
    "## Trends Throughout Seasons\n",
    "\n",
    "As we know, every single tournament, there will be at least 26 mid-major teams that get an automatic bid to March Madness by winning its respective conference tournament. This section will explore how the landscape of mid-major relevancy has changed throughout the past 9 postseasons."
   ]
  },
  {
   "cell_type": "code",
   "execution_count": 41,
   "id": "7b903042-8f2c-4930-958f-aa88d1271971",
   "metadata": {},
   "outputs": [
    {
     "data": {
      "image/png": "[encoded data removed]",
      "text/plain": [
       "<Figure size 432x288 with 1 Axes>"
      ]
     },
     "metadata": {
      "needs_background": "light"
     },
     "output_type": "display_data"
    }
   ],
   "source": [
    "mm_by_year = mid_major_post.groupby('YEAR').TEAM.count()\n",
    "plt.bar(mm_by_year.index, mm_by_year, color = 'orange')\n",
    "plt.plot(mm_by_year, color = 'blue')\n",
    "plt.xlabel('Season')\n",
    "plt.xticks(mm_by_year.index)\n",
    "plt.ylabel('Amount of Mid Major Teams in Tourney')\n",
    "plt.title('Mid Majors in the Tournament by Year')\n",
    "plt.show()"
   ]
  },
  {
   "cell_type": "markdown",
   "id": "a8b95e36-dc4c-4ba9-a2d3-a7ac42724964",
   "metadata": {},
   "source": [
    "There seems to be no apparent strong trend over the last 9 tournaments. There are many factors that affect whether mid-majors get to be in the tournament, and this graph does not tell us enough information to conclude anything. For example, strength of schedule may be valued by the committee one year, and the next year it may be long winning streaks that have stronger influence. One of the largest factors is who wins the automatic bid in these mid major conferences. Imagine, for an easy example, that Gonzaga is dominating the WCC. If Saint Mary's (another strong team in that conference) were to win the end of season tournament, then they would automatically enter March Madness. The committee cannot ignore Gonzaga, however, and thus they would get an invitation too. This allows for two mid-major teams, whereas if Gonzaga won the autobid, Saint Mary's may not have had a chance.\n",
    "\n",
    "Looking further than this, we will explore the seeding of mid-majors over the years."
   ]
  },
  {
   "cell_type": "code",
   "execution_count": 42,
   "id": "e2b39cd7-d0f5-4e07-94a8-98c26a2c3190",
   "metadata": {},
   "outputs": [
    {
     "data": {
      "image/png": "[encoded data removed]",
      "text/plain": [
       "<Figure size 864x288 with 2 Axes>"
      ]
     },
     "metadata": {
      "needs_background": "light"
     },
     "output_type": "display_data"
    }
   ],
   "source": [
    "mm_seed_by_year = mid_major_post.groupby('YEAR').SEED.mean()\n",
    "mm_high_seed_by_year = mid_major_post[mid_major_post.SEED <= 6].groupby('YEAR').TEAM.count()\n",
    "\n",
    "plt.figure(figsize = (12,4))\n",
    "\n",
    "plt.subplot(1,2,1)\n",
    "plt.bar(mm_seed_by_year.index, mm_seed_by_year, color = 'orange')\n",
    "plt.xlabel('Season')\n",
    "plt.xticks(mm_seed_by_year.index)\n",
    "plt.ylabel('Average Seed of Mid Major Team')\n",
    "plt.title('Average Seed of Mid Majors by Year')\n",
    "\n",
    "plt.subplot(1,2,2)\n",
    "plt.bar(mm_high_seed_by_year.index, mm_high_seed_by_year, color = 'orange')\n",
    "plt.ylabel('Amount of High-Seeded Teams')\n",
    "plt.xlabel('Season')\n",
    "plt.xticks(mm_by_year.index)\n",
    "plt.title('Top-6 Seeded Mid Majors by Year')\n",
    "plt.show()"
   ]
  },
  {
   "cell_type": "markdown",
   "id": "d194fc44-ca0a-4301-a11e-a2f89b029743",
   "metadata": {},
   "source": [
    "Again, there seems to not be a strong pattern over the last 9 years for seeding in mid majors. Every season, the average seed of mid-majors is around 11-13, so there is not much variation there. When we look at the amount of top-6 seeded teams over the last 9 tournaments, we again do not see a trend. It is interesting that 7 mid-majors were seeded high in both 2013-2014, and that NONE of the 24 top-6 seeds in 2016 came from mid-major conferences.\n",
    "\n",
    "Now, we will explore postseason success."
   ]
  },
  {
   "cell_type": "code",
   "execution_count": 43,
   "id": "11f410b7-620f-410d-a1b2-13f488d2480a",
   "metadata": {},
   "outputs": [
    {
     "data": {
      "image/png": "[encoded data removed]",
      "text/plain": [
       "<Figure size 864x288 with 2 Axes>"
      ]
     },
     "metadata": {
      "needs_background": "light"
     },
     "output_type": "display_data"
    }
   ],
   "source": [
    "plt.figure(figsize = (12,4))\n",
    "\n",
    "plt.subplot(1,2,1)\n",
    "s16_by_year = mid_major_post[mid_major_post.POSTSEASON >= 'S16'].groupby('YEAR').TEAM.count()\n",
    "plt.bar(s16_by_year.index, s16_by_year, color = 'orange')\n",
    "plt.xlabel('Season')\n",
    "plt.xticks(s16_by_year.index)\n",
    "plt.ylabel('Amount of Teams')\n",
    "plt.title('Mid Majors That Made the Sweet 16 by Year')\n",
    "\n",
    "plt.subplot(1,2,2)\n",
    "cinderella_by_year = mid_major_post[(mid_major_post.POSTSEASON >= 'S16') & (mid_major_post.SEED >= 9)].groupby('YEAR').TEAM.count()\n",
    "plt.bar(cinderella_by_year.index, cinderella_by_year, color = 'orange')\n",
    "plt.ylabel('Amount of Cinderalla Teams')\n",
    "plt.xlabel('Season')\n",
    "plt.xticks(mm_by_year.index)\n",
    "plt.title('Cinderellas by Year')\n",
    "plt.show()"
   ]
  },
  {
   "cell_type": "markdown",
   "id": "f8e7e3c0-168d-4d82-b7c7-236dcfbfb835",
   "metadata": {},
   "source": [
    "The trend for teams that made the Sweet 16 or better is also not strong. Cinderella Teams, which I defined as below 9-seeds that made the Sweet 16 or better, also seems quite random. \n",
    "\n",
    "Overall, there is no significant trend in mid-major relevancy over the last 9 tournaments. We cannot argue that mid-majors are on the rise (or that they're on the decline). Every year seems random when it comes to how many mid-majors will do good.\n"
   ]
  },
  {
   "cell_type": "markdown",
   "id": "b779a77d-18ae-48ff-99e4-b7bf1c30568d",
   "metadata": {},
   "source": [
    "## Relevancy to Us\n",
    "\n",
    "We have explored the differences between high-major schools and mid-major schools. However, it is not as relevant to us Bruins, as UCLA will never be a mid-major school. Now, we will look into the last 9 tournaments for the Pac-12 (UCLA's current conference) and the Big Ten, the conference that UCLA will move to in 2024.\n",
    "\n",
    "### Pac-12"
   ]
  },
  {
   "cell_type": "code",
   "execution_count": 44,
   "id": "ac0c69c5-0c20-4ab3-a232-de50eba98ec6",
   "metadata": {},
   "outputs": [],
   "source": [
    "pac_12 = data[data.CONF == 'P12']"
   ]
  },
  {
   "cell_type": "code",
   "execution_count": 45,
   "id": "1af321de-89be-4a49-b095-712dfe7a9658",
   "metadata": {},
   "outputs": [
    {
     "data": {
      "text/plain": [
       "4.444444444444445"
      ]
     },
     "execution_count": 45,
     "metadata": {},
     "output_type": "execute_result"
    }
   ],
   "source": [
    "pac_12.TOURNEY.sum() / 9"
   ]
  },
  {
   "cell_type": "markdown",
   "id": "c13e594b-0f3e-4db3-a540-19136bc6f989",
   "metadata": {},
   "source": [
    "The Pacific-12 has been one of the worst power conferences recently. Over the last 9 tournaments, they have only sent an average of 4.44 schools each season. Over that same span, each of the other 5 high-major conferences have sent more teams. "
   ]
  },
  {
   "cell_type": "code",
   "execution_count": 46,
   "id": "cd52acd0-3649-4750-8c31-c0e881afc01c",
   "metadata": {},
   "outputs": [
    {
     "data": {
      "text/html": [
       "<div>\n",
       "<style scoped>\n",
       "    .dataframe tbody tr th:only-of-type {\n",
       "        vertical-align: middle;\n",
       "    }\n",
       "\n",
       "    .dataframe tbody tr th {\n",
       "        vertical-align: top;\n",
       "    }\n",
       "\n",
       "    .dataframe thead th {\n",
       "        text-align: right;\n",
       "    }\n",
       "</style>\n",
       "<table border=\"1\" class=\"dataframe\">\n",
       "  <thead>\n",
       "    <tr style=\"text-align: right;\">\n",
       "      <th></th>\n",
       "      <th>ADJOE</th>\n",
       "    </tr>\n",
       "    <tr>\n",
       "      <th>CONF</th>\n",
       "      <th></th>\n",
       "    </tr>\n",
       "  </thead>\n",
       "  <tbody>\n",
       "    <tr>\n",
       "      <th>B12</th>\n",
       "      <td>111.711111</td>\n",
       "    </tr>\n",
       "    <tr>\n",
       "      <th>ACC</th>\n",
       "      <td>111.260606</td>\n",
       "    </tr>\n",
       "    <tr>\n",
       "      <th>B10</th>\n",
       "      <td>111.045082</td>\n",
       "    </tr>\n",
       "    <tr>\n",
       "      <th>BE</th>\n",
       "      <td>110.553608</td>\n",
       "    </tr>\n",
       "    <tr>\n",
       "      <th>SEC</th>\n",
       "      <td>109.257937</td>\n",
       "    </tr>\n",
       "    <tr>\n",
       "      <th>P12</th>\n",
       "      <td>108.970370</td>\n",
       "    </tr>\n",
       "  </tbody>\n",
       "</table>\n",
       "</div>"
      ],
      "text/plain": [
       "           ADJOE\n",
       "CONF            \n",
       "B12   111.711111\n",
       "ACC   111.260606\n",
       "B10   111.045082\n",
       "BE    110.553608\n",
       "SEC   109.257937\n",
       "P12   108.970370"
      ]
     },
     "execution_count": 46,
     "metadata": {},
     "output_type": "execute_result"
    }
   ],
   "source": [
    "adjoe = data.groupby('CONF').ADJOE.mean().sort_values(ascending = False)[0:6]\n",
    "adjde = data.groupby('CONF').ADJDE.mean().sort_values()[0:6]\n",
    "pd.DataFrame(adjoe)"
   ]
  },
  {
   "cell_type": "code",
   "execution_count": 47,
   "id": "01e8e85b-3bae-47a7-84be-97d57ba735a9",
   "metadata": {},
   "outputs": [
    {
     "data": {
      "text/html": [
       "<div>\n",
       "<style scoped>\n",
       "    .dataframe tbody tr th:only-of-type {\n",
       "        vertical-align: middle;\n",
       "    }\n",
       "\n",
       "    .dataframe tbody tr th {\n",
       "        vertical-align: top;\n",
       "    }\n",
       "\n",
       "    .dataframe thead th {\n",
       "        text-align: right;\n",
       "    }\n",
       "</style>\n",
       "<table border=\"1\" class=\"dataframe\">\n",
       "  <thead>\n",
       "    <tr style=\"text-align: right;\">\n",
       "      <th></th>\n",
       "      <th>ADJDE</th>\n",
       "    </tr>\n",
       "    <tr>\n",
       "      <th>CONF</th>\n",
       "      <th></th>\n",
       "    </tr>\n",
       "  </thead>\n",
       "  <tbody>\n",
       "    <tr>\n",
       "      <th>B12</th>\n",
       "      <td>95.091111</td>\n",
       "    </tr>\n",
       "    <tr>\n",
       "      <th>B10</th>\n",
       "      <td>95.788525</td>\n",
       "    </tr>\n",
       "    <tr>\n",
       "      <th>SEC</th>\n",
       "      <td>96.485714</td>\n",
       "    </tr>\n",
       "    <tr>\n",
       "      <th>BE</th>\n",
       "      <td>96.535052</td>\n",
       "    </tr>\n",
       "    <tr>\n",
       "      <th>ACC</th>\n",
       "      <td>96.639394</td>\n",
       "    </tr>\n",
       "    <tr>\n",
       "      <th>P12</th>\n",
       "      <td>97.994444</td>\n",
       "    </tr>\n",
       "  </tbody>\n",
       "</table>\n",
       "</div>"
      ],
      "text/plain": [
       "          ADJDE\n",
       "CONF           \n",
       "B12   95.091111\n",
       "B10   95.788525\n",
       "SEC   96.485714\n",
       "BE    96.535052\n",
       "ACC   96.639394\n",
       "P12   97.994444"
      ]
     },
     "execution_count": 47,
     "metadata": {},
     "output_type": "execute_result"
    }
   ],
   "source": [
    "pd.DataFrame(adjde)"
   ]
  },
  {
   "cell_type": "markdown",
   "id": "d54b0ad8-4a67-4c94-a375-9ef50aca188e",
   "metadata": {},
   "source": [
    "We see that the average adjusted offensive and defensive efficiency for teams in the Pac-12 ranks worst amongst power conferences in the past 10 years. So how has the Pac-12 retained relevancy?"
   ]
  },
  {
   "cell_type": "code",
   "execution_count": 48,
   "id": "c424a94f-74f3-46d6-b89e-0df9447378d0",
   "metadata": {},
   "outputs": [],
   "source": [
    "p12_tourney = pd.DataFrame(pac_12.groupby('TEAM').TOURNEY.sum())\n",
    "p12_seed = pd.DataFrame(pac_12.groupby('TEAM').SEED.mean())\n",
    "p12_tourney['AVERAGE SEED'] = p12_seed"
   ]
  },
  {
   "cell_type": "code",
   "execution_count": 49,
   "id": "b9591089-c872-4f8e-87d9-52af8494509c",
   "metadata": {},
   "outputs": [
    {
     "data": {
      "text/html": [
       "<div>\n",
       "<style scoped>\n",
       "    .dataframe tbody tr th:only-of-type {\n",
       "        vertical-align: middle;\n",
       "    }\n",
       "\n",
       "    .dataframe tbody tr th {\n",
       "        vertical-align: top;\n",
       "    }\n",
       "\n",
       "    .dataframe thead th {\n",
       "        text-align: right;\n",
       "    }\n",
       "</style>\n",
       "<table border=\"1\" class=\"dataframe\">\n",
       "  <thead>\n",
       "    <tr style=\"text-align: right;\">\n",
       "      <th></th>\n",
       "      <th>TOURNEY</th>\n",
       "      <th>AVERAGE SEED</th>\n",
       "    </tr>\n",
       "    <tr>\n",
       "      <th>TEAM</th>\n",
       "      <th></th>\n",
       "      <th></th>\n",
       "    </tr>\n",
       "  </thead>\n",
       "  <tbody>\n",
       "    <tr>\n",
       "      <th>Arizona</th>\n",
       "      <td>7</td>\n",
       "      <td>3.142857</td>\n",
       "    </tr>\n",
       "    <tr>\n",
       "      <th>Oregon</th>\n",
       "      <td>7</td>\n",
       "      <td>7.142857</td>\n",
       "    </tr>\n",
       "    <tr>\n",
       "      <th>UCLA</th>\n",
       "      <td>7</td>\n",
       "      <td>7.142857</td>\n",
       "    </tr>\n",
       "    <tr>\n",
       "      <th>Colorado</th>\n",
       "      <td>4</td>\n",
       "      <td>7.750000</td>\n",
       "    </tr>\n",
       "    <tr>\n",
       "      <th>USC</th>\n",
       "      <td>4</td>\n",
       "      <td>8.000000</td>\n",
       "    </tr>\n",
       "    <tr>\n",
       "      <th>Arizona St.</th>\n",
       "      <td>3</td>\n",
       "      <td>10.666667</td>\n",
       "    </tr>\n",
       "    <tr>\n",
       "      <th>California</th>\n",
       "      <td>2</td>\n",
       "      <td>8.000000</td>\n",
       "    </tr>\n",
       "    <tr>\n",
       "      <th>Oregon St.</th>\n",
       "      <td>2</td>\n",
       "      <td>9.500000</td>\n",
       "    </tr>\n",
       "    <tr>\n",
       "      <th>Utah</th>\n",
       "      <td>2</td>\n",
       "      <td>4.000000</td>\n",
       "    </tr>\n",
       "    <tr>\n",
       "      <th>Stanford</th>\n",
       "      <td>1</td>\n",
       "      <td>10.000000</td>\n",
       "    </tr>\n",
       "    <tr>\n",
       "      <th>Washington</th>\n",
       "      <td>1</td>\n",
       "      <td>9.000000</td>\n",
       "    </tr>\n",
       "    <tr>\n",
       "      <th>Washington St.</th>\n",
       "      <td>0</td>\n",
       "      <td>NaN</td>\n",
       "    </tr>\n",
       "  </tbody>\n",
       "</table>\n",
       "</div>"
      ],
      "text/plain": [
       "                TOURNEY  AVERAGE SEED\n",
       "TEAM                                 \n",
       "Arizona               7      3.142857\n",
       "Oregon                7      7.142857\n",
       "UCLA                  7      7.142857\n",
       "Colorado              4      7.750000\n",
       "USC                   4      8.000000\n",
       "Arizona St.           3     10.666667\n",
       "California            2      8.000000\n",
       "Oregon St.            2      9.500000\n",
       "Utah                  2      4.000000\n",
       "Stanford              1     10.000000\n",
       "Washington            1      9.000000\n",
       "Washington St.        0           NaN"
      ]
     },
     "execution_count": 49,
     "metadata": {},
     "output_type": "execute_result"
    }
   ],
   "source": [
    "p12_tourney.sort_values('TOURNEY', ascending = False)"
   ]
  },
  {
   "cell_type": "markdown",
   "id": "39282663-bc26-4b2c-88b4-3b54a310437b",
   "metadata": {},
   "source": [
    "Arizona, Oregon, and UCLA have been relatively consistent tournament teams, each making it 7 times in the last 9 postseasons. In addition, they typically seed relatively high, with Arizona being an outlier in this group. However, besides those three schools, no other school is consistent. These teams lower the overall status and statistics of the Pac-12. With many other power conferences, there are many more strong teams and less weak teams, as we will see when we explore the Big Ten.\n",
    "\n",
    "### Big Ten\n"
   ]
  },
  {
   "cell_type": "code",
   "execution_count": 50,
   "id": "8e9cb7ca-533b-40a2-bf6e-4766a196f86c",
   "metadata": {},
   "outputs": [
    {
     "data": {
      "text/plain": [
       "7.111111111111111"
      ]
     },
     "execution_count": 50,
     "metadata": {},
     "output_type": "execute_result"
    }
   ],
   "source": [
    "big_ten = data[data.CONF == 'B10']\n",
    "big_ten.TOURNEY.sum() / 9"
   ]
  },
  {
   "cell_type": "code",
   "execution_count": 69,
   "id": "baf2d908-c234-4b43-849b-aab8dbf62b39",
   "metadata": {},
   "outputs": [
    {
     "data": {
      "image/png": "[encoded data removed]",
      "text/plain": [
       "<Figure size 432x288 with 1 Axes>"
      ]
     },
     "metadata": {
      "needs_background": "light"
     },
     "output_type": "display_data"
    }
   ],
   "source": [
    "b10_count = big_ten.groupby('YEAR').TOURNEY.sum()\n",
    "tourney_teams = [68,68,68,68,68,68,68,68,68]\n",
    "plt.bar(b10_count.index, tourney_teams, color = 'orange', alpha = 0.5, label = \"Tournament Teams\")\n",
    "plt.bar(b10_count.index, b10_count, color = 'blue', alpha = 0.5, label = \"Big 10 Schools\")\n",
    "plt.xlabel('Season')\n",
    "plt.ylabel('Number of Teams')\n",
    "plt.xticks(b10_count.index)\n",
    "plt.title('Big Ten Teams in the Tournament')\n",
    "plt.show()"
   ]
  },
  {
   "cell_type": "markdown",
   "id": "5c477870-0e78-40eb-a798-36d2bda741ce",
   "metadata": {},
   "source": [
    "The Big Ten sends an impressively high 7 teams to the tournament on average each year. Considering only 68 teams throughout 32 conferences make the tournament, one conference having 7 of them is remarkable."
   ]
  },
  {
   "cell_type": "code",
   "execution_count": 71,
   "id": "9b48c236-1d37-463c-acb7-a012acff9f2f",
   "metadata": {},
   "outputs": [
    {
     "data": {
      "text/html": [
       "<div>\n",
       "<style scoped>\n",
       "    .dataframe tbody tr th:only-of-type {\n",
       "        vertical-align: middle;\n",
       "    }\n",
       "\n",
       "    .dataframe tbody tr th {\n",
       "        vertical-align: top;\n",
       "    }\n",
       "\n",
       "    .dataframe thead th {\n",
       "        text-align: right;\n",
       "    }\n",
       "</style>\n",
       "<table border=\"1\" class=\"dataframe\">\n",
       "  <thead>\n",
       "    <tr style=\"text-align: right;\">\n",
       "      <th></th>\n",
       "      <th>TOURNEY</th>\n",
       "      <th>AVERAGE SEED</th>\n",
       "    </tr>\n",
       "    <tr>\n",
       "      <th>TEAM</th>\n",
       "      <th></th>\n",
       "      <th></th>\n",
       "    </tr>\n",
       "  </thead>\n",
       "  <tbody>\n",
       "    <tr>\n",
       "      <th>Michigan St.</th>\n",
       "      <td>9</td>\n",
       "      <td>5.33</td>\n",
       "    </tr>\n",
       "    <tr>\n",
       "      <th>Michigan</th>\n",
       "      <td>8</td>\n",
       "      <td>5.12</td>\n",
       "    </tr>\n",
       "    <tr>\n",
       "      <th>Wisconsin</th>\n",
       "      <td>8</td>\n",
       "      <td>5.00</td>\n",
       "    </tr>\n",
       "    <tr>\n",
       "      <th>Ohio St.</th>\n",
       "      <td>7</td>\n",
       "      <td>6.14</td>\n",
       "    </tr>\n",
       "    <tr>\n",
       "      <th>Purdue</th>\n",
       "      <td>7</td>\n",
       "      <td>4.29</td>\n",
       "    </tr>\n",
       "    <tr>\n",
       "      <th>Iowa</th>\n",
       "      <td>6</td>\n",
       "      <td>7.00</td>\n",
       "    </tr>\n",
       "    <tr>\n",
       "      <th>Maryland</th>\n",
       "      <td>5</td>\n",
       "      <td>6.20</td>\n",
       "    </tr>\n",
       "    <tr>\n",
       "      <th>Indiana</th>\n",
       "      <td>4</td>\n",
       "      <td>7.00</td>\n",
       "    </tr>\n",
       "    <tr>\n",
       "      <th>Illinois</th>\n",
       "      <td>3</td>\n",
       "      <td>4.00</td>\n",
       "    </tr>\n",
       "    <tr>\n",
       "      <th>Minnesota</th>\n",
       "      <td>3</td>\n",
       "      <td>8.67</td>\n",
       "    </tr>\n",
       "    <tr>\n",
       "      <th>Rutgers</th>\n",
       "      <td>2</td>\n",
       "      <td>10.50</td>\n",
       "    </tr>\n",
       "    <tr>\n",
       "      <th>Nebraska</th>\n",
       "      <td>1</td>\n",
       "      <td>11.00</td>\n",
       "    </tr>\n",
       "    <tr>\n",
       "      <th>Northwestern</th>\n",
       "      <td>1</td>\n",
       "      <td>8.00</td>\n",
       "    </tr>\n",
       "    <tr>\n",
       "      <th>Penn St.</th>\n",
       "      <td>0</td>\n",
       "      <td>NaN</td>\n",
       "    </tr>\n",
       "  </tbody>\n",
       "</table>\n",
       "</div>"
      ],
      "text/plain": [
       "              TOURNEY  AVERAGE SEED\n",
       "TEAM                               \n",
       "Michigan St.        9          5.33\n",
       "Michigan            8          5.12\n",
       "Wisconsin           8          5.00\n",
       "Ohio St.            7          6.14\n",
       "Purdue              7          4.29\n",
       "Iowa                6          7.00\n",
       "Maryland            5          6.20\n",
       "Indiana             4          7.00\n",
       "Illinois            3          4.00\n",
       "Minnesota           3          8.67\n",
       "Rutgers             2         10.50\n",
       "Nebraska            1         11.00\n",
       "Northwestern        1          8.00\n",
       "Penn St.            0           NaN"
      ]
     },
     "execution_count": 71,
     "metadata": {},
     "output_type": "execute_result"
    }
   ],
   "source": [
    "b10_tourney = pd.DataFrame(big_ten.groupby('TEAM').TOURNEY.sum())\n",
    "b10_seed = np.round(pd.DataFrame(big_ten.groupby('TEAM').SEED.mean()),2)\n",
    "b10_tourney['AVERAGE SEED'] = b10_seed\n",
    "b10_tourney.sort_values('TOURNEY', ascending = False)"
   ]
  },
  {
   "cell_type": "markdown",
   "id": "edd0fbd2-862c-4afd-a26a-0a21ce35c94f",
   "metadata": {},
   "source": [
    "Clearly, the Big Ten has stronger and more consistent teams than the Pac-12. Not only will a move to the Big Ten increase profit for UCLA, but it will also expose our team to better competition throughout the season, allowing us to prepare for the tournament. \n",
    "\n",
    "This season, only 2 Pac-12 teams are in the top 45 in NET rankings (Arizona and UCLA). Within league play, UCLA does not have the opportunity to test itself against other teams that will be in the tournament. Meanwhile, every school in the Big Ten basically plays a tournament-bound team every week. This move to the Big Ten will make travel and some logistics tougher, but in the end, it will give UCLA a higher chance of winning it all.\n",
    "\n",
    "### Mid-Majors to Watch This Year\n",
    "\n",
    "As we saw in our section on mid-major outliers, Houston and Gonzaga are still strong teams that will be seeded high and expected to go far. In fact, Houston has been the number 1 ranked school for about a third of the season.\n",
    "\n",
    "In our Cinderella section, we saw that Cinderella teams tend to have better adjusted offensive efficiency and defensive efficiency. Here are some notable mid-major schools that fulfill that condition: \n",
    "\n",
    "- Florida Atlantic (Conference USA)\n",
    "- Memphis (American Conference)\n",
    "- Utah St. (Mountain West Conference)\n",
    "- New Mexico (Mountain West Conference)\n",
    "- San Diego St. (Mountain West Conference)\n",
    "- Liberty (ASUN Conference)\n",
    "- Charleston (Colonial Athletic Conference)\n",
    "- Saint Mary's (West Coast Conference)\n",
    "- Boise State (Mountain West Conference)\n",
    "\n",
    "If they make the tournament, look for these schools to exceed expectations.\n",
    "\n",
    "## Conclusion\n",
    "\n",
    "In this article, we explored how conferences work in college basketball, and what high-major conferences are. We saw the differences in mid-majors vs high-majors in both the regular season and March Madness implications. We then looked into mid-major outliers and what makes a \"Cinderella\" team. Lastly, we discover why UCLA is moving from the Pac-12 to the Big Ten and present mid-majors that could make noise this March. "
   ]
  }
 ],
 "metadata": {
  "kernelspec": {
   "display_name": "Python 3 (ipykernel)",
   "language": "python",
   "name": "python3"
  },
  "language_info": {
   "codemirror_mode": {
    "name": "ipython",
    "version": 3
   },
   "file_extension": ".py",
   "mimetype": "text/x-python",
   "name": "python",
   "nbconvert_exporter": "python",
   "pygments_lexer": "ipython3",
   "version": "3.9.12"
  }
 },
 "nbformat": 4,
 "nbformat_minor": 5
}
